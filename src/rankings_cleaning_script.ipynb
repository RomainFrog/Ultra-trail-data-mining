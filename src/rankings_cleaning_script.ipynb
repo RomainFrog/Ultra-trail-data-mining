{
 "cells": [
  {
   "cell_type": "markdown",
   "id": "a4c45409",
   "metadata": {},
   "source": [
    "# Cleaning script for ultra_rankings.csv"
   ]
  },
  {
   "cell_type": "code",
   "execution_count": 8,
   "id": "13ed52a3",
   "metadata": {},
   "outputs": [],
   "source": [
    "import pandas as pd\n",
    "import numpy as np\n",
    "import matplotlib as plt\n",
    "import seaborn as sns"
   ]
  },
  {
   "cell_type": "code",
   "execution_count": 9,
   "id": "20059d4d",
   "metadata": {},
   "outputs": [
    {
     "name": "stdout",
     "output_type": "stream",
     "text": [
      "<class 'pandas.core.frame.DataFrame'>\n",
      "RangeIndex: 137803 entries, 0 to 137802\n",
      "Data columns (total 8 columns):\n",
      " #   Column           Non-Null Count   Dtype  \n",
      "---  ------           --------------   -----  \n",
      " 0   race_year_id     137803 non-null  int64  \n",
      " 1   rank             120012 non-null  float64\n",
      " 2   runner           137803 non-null  object \n",
      " 3   time             120012 non-null  object \n",
      " 4   age              137803 non-null  int64  \n",
      " 5   gender           137773 non-null  object \n",
      " 6   nationality      137803 non-null  object \n",
      " 7   time_in_seconds  120012 non-null  float64\n",
      "dtypes: float64(2), int64(2), object(4)\n",
      "memory usage: 8.4+ MB\n"
     ]
    }
   ],
   "source": [
    "X = pd.read_csv(\"../data/ultra_rankings.csv\")\n",
    "X.info()"
   ]
  },
  {
   "cell_type": "code",
   "execution_count": null,
   "id": "5df09ffd",
   "metadata": {},
   "outputs": [],
   "source": [
    "sns.histpl"
   ]
  }
 ],
 "metadata": {
  "kernelspec": {
   "display_name": "Python 3 (ipykernel)",
   "language": "python",
   "name": "python3"
  },
  "language_info": {
   "codemirror_mode": {
    "name": "ipython",
    "version": 3
   },
   "file_extension": ".py",
   "mimetype": "text/x-python",
   "name": "python",
   "nbconvert_exporter": "python",
   "pygments_lexer": "ipython3",
   "version": "3.9.7"
  }
 },
 "nbformat": 4,
 "nbformat_minor": 5
}
