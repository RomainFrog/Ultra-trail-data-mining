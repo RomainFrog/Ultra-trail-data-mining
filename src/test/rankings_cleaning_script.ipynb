{
 "cells": [
  {
   "cell_type": "markdown",
   "id": "a4c45409",
   "metadata": {},
   "source": [
    "# Cleaning script for ultra_rankings.csv"
   ]
  },
  {
   "cell_type": "code",
   "execution_count": 18,
   "id": "13ed52a3",
   "metadata": {},
   "outputs": [],
   "source": [
    "import pandas as pd\n",
    "import numpy as np\n",
    "import matplotlib as plt\n",
    "import seaborn as sns"
   ]
  },
  {
   "cell_type": "code",
   "execution_count": 19,
   "id": "20059d4d",
   "metadata": {
    "scrolled": true
   },
   "outputs": [
    {
     "name": "stdout",
     "output_type": "stream",
     "text": [
      "<class 'pandas.core.frame.DataFrame'>\n",
      "RangeIndex: 137803 entries, 0 to 137802\n",
      "Data columns (total 8 columns):\n",
      " #   Column           Non-Null Count   Dtype  \n",
      "---  ------           --------------   -----  \n",
      " 0   race_year_id     137803 non-null  int64  \n",
      " 1   rank             120012 non-null  float64\n",
      " 2   runner           137803 non-null  object \n",
      " 3   time             120012 non-null  object \n",
      " 4   age              137803 non-null  int64  \n",
      " 5   gender           137773 non-null  object \n",
      " 6   nationality      137803 non-null  object \n",
      " 7   time_in_seconds  120012 non-null  float64\n",
      "dtypes: float64(2), int64(2), object(4)\n",
      "memory usage: 8.4+ MB\n"
     ]
    }
   ],
   "source": [
    "X = pd.read_csv(\"../data/ultra_rankings.csv\")\n",
    "X.info()"
   ]
  },
  {
   "cell_type": "code",
   "execution_count": 20,
   "id": "a2bd92a4",
   "metadata": {},
   "outputs": [
    {
     "data": {
      "text/plain": [
       "<AxesSubplot:>"
      ]
     },
     "execution_count": 20,
     "metadata": {},
     "output_type": "execute_result"
    },
    {
     "data": {
      "image/png": "[encoded data removed]",
      "text/plain": [
       "<Figure size 432x288 with 1 Axes>"
      ]
     },
     "metadata": {
      "needs_background": "light"
     },
     "output_type": "display_data"
    }
   ],
   "source": [
    "sns.heatmap(X.isnull(), cbar = False)"
   ]
  },
  {
   "cell_type": "markdown",
   "id": "dbf05ca9",
   "metadata": {},
   "source": [
    "### Renaming rank\n",
    "\n",
    "Using the rank variables causes errors because of the built-in ```rank()``` function.<br>\"Rank\" parameter renamed to \"ranking\" to avoid confusion and python errors."
   ]
  },
  {
   "cell_type": "code",
   "execution_count": 21,
   "id": "5df09ffd",
   "metadata": {
    "scrolled": true
   },
   "outputs": [],
   "source": [
    "X = X.rename(columns={\"rank\": \"ranking\"})"
   ]
  },
  {
   "cell_type": "code",
   "execution_count": 41,
   "id": "a670d736",
   "metadata": {
    "scrolled": true
   },
   "outputs": [
    {
     "data": {
      "text/html": [
       "<div>\n",
       "<style scoped>\n",
       "    .dataframe tbody tr th:only-of-type {\n",
       "        vertical-align: middle;\n",
       "    }\n",
       "\n",
       "    .dataframe tbody tr th {\n",
       "        vertical-align: top;\n",
       "    }\n",
       "\n",
       "    .dataframe thead th {\n",
       "        text-align: right;\n",
       "    }\n",
       "</style>\n",
       "<table border=\"1\" class=\"dataframe\">\n",
       "  <thead>\n",
       "    <tr style=\"text-align: right;\">\n",
       "      <th></th>\n",
       "      <th>race_year_id</th>\n",
       "      <th>ranking</th>\n",
       "      <th>runner</th>\n",
       "      <th>time</th>\n",
       "      <th>age</th>\n",
       "      <th>gender</th>\n",
       "      <th>nationality</th>\n",
       "      <th>time_in_seconds</th>\n",
       "    </tr>\n",
       "  </thead>\n",
       "  <tbody>\n",
       "    <tr>\n",
       "      <th>2626</th>\n",
       "      <td>69219</td>\n",
       "      <td>90.0</td>\n",
       "      <td>WANG HOWARD</td>\n",
       "      <td>28H 10M 41S</td>\n",
       "      <td>19.0</td>\n",
       "      <td>M</td>\n",
       "      <td>CHN</td>\n",
       "      <td>101441.0</td>\n",
       "    </tr>\n",
       "    <tr>\n",
       "      <th>6588</th>\n",
       "      <td>66105</td>\n",
       "      <td>NaN</td>\n",
       "      <td>SALINAS Rankin</td>\n",
       "      <td>NaN</td>\n",
       "      <td>19.0</td>\n",
       "      <td>M</td>\n",
       "      <td>USA</td>\n",
       "      <td>NaN</td>\n",
       "    </tr>\n",
       "    <tr>\n",
       "      <th>8504</th>\n",
       "      <td>71992</td>\n",
       "      <td>33.0</td>\n",
       "      <td>OPALENIK Mila</td>\n",
       "      <td>26H 30M 55S</td>\n",
       "      <td>19.0</td>\n",
       "      <td>W</td>\n",
       "      <td>USA</td>\n",
       "      <td>95455.0</td>\n",
       "    </tr>\n",
       "    <tr>\n",
       "      <th>9308</th>\n",
       "      <td>69001</td>\n",
       "      <td>NaN</td>\n",
       "      <td>LUTZKER Hannah</td>\n",
       "      <td>NaN</td>\n",
       "      <td>16.0</td>\n",
       "      <td>W</td>\n",
       "      <td>USA</td>\n",
       "      <td>NaN</td>\n",
       "    </tr>\n",
       "    <tr>\n",
       "      <th>12658</th>\n",
       "      <td>59557</td>\n",
       "      <td>196.0</td>\n",
       "      <td>WANG HOWARD</td>\n",
       "      <td>35H 13M 4S</td>\n",
       "      <td>19.0</td>\n",
       "      <td>M</td>\n",
       "      <td>CHN</td>\n",
       "      <td>126784.0</td>\n",
       "    </tr>\n",
       "    <tr>\n",
       "      <th>17251</th>\n",
       "      <td>43585</td>\n",
       "      <td>49.0</td>\n",
       "      <td>BAKER Benjamin</td>\n",
       "      <td>23H 40M 6S</td>\n",
       "      <td>19.0</td>\n",
       "      <td>M</td>\n",
       "      <td>USA</td>\n",
       "      <td>85206.0</td>\n",
       "    </tr>\n",
       "    <tr>\n",
       "      <th>18571</th>\n",
       "      <td>59415</td>\n",
       "      <td>NaN</td>\n",
       "      <td>FERNANDEZ Gabby</td>\n",
       "      <td>NaN</td>\n",
       "      <td>19.0</td>\n",
       "      <td>W</td>\n",
       "      <td>USA</td>\n",
       "      <td>NaN</td>\n",
       "    </tr>\n",
       "    <tr>\n",
       "      <th>19567</th>\n",
       "      <td>43385</td>\n",
       "      <td>266.0</td>\n",
       "      <td>TROUP Milly</td>\n",
       "      <td>27H 14M 21S</td>\n",
       "      <td>18.0</td>\n",
       "      <td>W</td>\n",
       "      <td>GBR</td>\n",
       "      <td>98061.0</td>\n",
       "    </tr>\n",
       "    <tr>\n",
       "      <th>23620</th>\n",
       "      <td>47701</td>\n",
       "      <td>23.0</td>\n",
       "      <td>TELLO Tobias</td>\n",
       "      <td>30H 37M 22S</td>\n",
       "      <td>17.0</td>\n",
       "      <td>M</td>\n",
       "      <td>USA</td>\n",
       "      <td>110242.0</td>\n",
       "    </tr>\n",
       "    <tr>\n",
       "      <th>26946</th>\n",
       "      <td>58005</td>\n",
       "      <td>41.0</td>\n",
       "      <td>VALDEZ Ethan</td>\n",
       "      <td>32H 58M 43S</td>\n",
       "      <td>19.0</td>\n",
       "      <td>M</td>\n",
       "      <td>USA</td>\n",
       "      <td>118723.0</td>\n",
       "    </tr>\n",
       "    <tr>\n",
       "      <th>34457</th>\n",
       "      <td>47257</td>\n",
       "      <td>NaN</td>\n",
       "      <td>RUSSELL Taylor</td>\n",
       "      <td>NaN</td>\n",
       "      <td>18.0</td>\n",
       "      <td>W</td>\n",
       "      <td>USA</td>\n",
       "      <td>NaN</td>\n",
       "    </tr>\n",
       "    <tr>\n",
       "      <th>39894</th>\n",
       "      <td>38011</td>\n",
       "      <td>NaN</td>\n",
       "      <td>LEE Michael</td>\n",
       "      <td>NaN</td>\n",
       "      <td>5.0</td>\n",
       "      <td>M</td>\n",
       "      <td>USA</td>\n",
       "      <td>NaN</td>\n",
       "    </tr>\n",
       "    <tr>\n",
       "      <th>43292</th>\n",
       "      <td>32035</td>\n",
       "      <td>172.0</td>\n",
       "      <td>SANCHEZ Luke</td>\n",
       "      <td>25H 38M 39S</td>\n",
       "      <td>18.0</td>\n",
       "      <td>M</td>\n",
       "      <td>USA</td>\n",
       "      <td>92319.0</td>\n",
       "    </tr>\n",
       "    <tr>\n",
       "      <th>55359</th>\n",
       "      <td>31671</td>\n",
       "      <td>NaN</td>\n",
       "      <td>SANCHEZ Luke</td>\n",
       "      <td>NaN</td>\n",
       "      <td>18.0</td>\n",
       "      <td>M</td>\n",
       "      <td>USA</td>\n",
       "      <td>NaN</td>\n",
       "    </tr>\n",
       "    <tr>\n",
       "      <th>65634</th>\n",
       "      <td>16729</td>\n",
       "      <td>NaN</td>\n",
       "      <td>SANCHEZ Luke</td>\n",
       "      <td>NaN</td>\n",
       "      <td>18.0</td>\n",
       "      <td>M</td>\n",
       "      <td>USA</td>\n",
       "      <td>NaN</td>\n",
       "    </tr>\n",
       "    <tr>\n",
       "      <th>70697</th>\n",
       "      <td>25339</td>\n",
       "      <td>NaN</td>\n",
       "      <td>VOGT Eric</td>\n",
       "      <td>NaN</td>\n",
       "      <td>5.0</td>\n",
       "      <td>M</td>\n",
       "      <td>USA</td>\n",
       "      <td>NaN</td>\n",
       "    </tr>\n",
       "    <tr>\n",
       "      <th>113885</th>\n",
       "      <td>8120</td>\n",
       "      <td>171.0</td>\n",
       "      <td>SALAT MIRET Roger</td>\n",
       "      <td>59H 39M 1S</td>\n",
       "      <td>17.0</td>\n",
       "      <td>M</td>\n",
       "      <td>ESP</td>\n",
       "      <td>214741.0</td>\n",
       "    </tr>\n",
       "  </tbody>\n",
       "</table>\n",
       "</div>"
      ],
      "text/plain": [
       "        race_year_id  ranking             runner         time   age gender  \\\n",
       "2626           69219     90.0        WANG HOWARD  28H 10M 41S  19.0      M   \n",
       "6588           66105      NaN     SALINAS Rankin          NaN  19.0      M   \n",
       "8504           71992     33.0      OPALENIK Mila  26H 30M 55S  19.0      W   \n",
       "9308           69001      NaN     LUTZKER Hannah          NaN  16.0      W   \n",
       "12658          59557    196.0        WANG HOWARD   35H 13M 4S  19.0      M   \n",
       "17251          43585     49.0     BAKER Benjamin   23H 40M 6S  19.0      M   \n",
       "18571          59415      NaN    FERNANDEZ Gabby          NaN  19.0      W   \n",
       "19567          43385    266.0        TROUP Milly  27H 14M 21S  18.0      W   \n",
       "23620          47701     23.0       TELLO Tobias  30H 37M 22S  17.0      M   \n",
       "26946          58005     41.0       VALDEZ Ethan  32H 58M 43S  19.0      M   \n",
       "34457          47257      NaN     RUSSELL Taylor          NaN  18.0      W   \n",
       "39894          38011      NaN        LEE Michael          NaN   5.0      M   \n",
       "43292          32035    172.0       SANCHEZ Luke  25H 38M 39S  18.0      M   \n",
       "55359          31671      NaN       SANCHEZ Luke          NaN  18.0      M   \n",
       "65634          16729      NaN       SANCHEZ Luke          NaN  18.0      M   \n",
       "70697          25339      NaN          VOGT Eric          NaN   5.0      M   \n",
       "113885          8120    171.0  SALAT MIRET Roger   59H 39M 1S  17.0      M   \n",
       "\n",
       "       nationality  time_in_seconds  \n",
       "2626           CHN         101441.0  \n",
       "6588           USA              NaN  \n",
       "8504           USA          95455.0  \n",
       "9308           USA              NaN  \n",
       "12658          CHN         126784.0  \n",
       "17251          USA          85206.0  \n",
       "18571          USA              NaN  \n",
       "19567          GBR          98061.0  \n",
       "23620          USA         110242.0  \n",
       "26946          USA         118723.0  \n",
       "34457          USA              NaN  \n",
       "39894          USA              NaN  \n",
       "43292          USA          92319.0  \n",
       "55359          USA              NaN  \n",
       "65634          USA              NaN  \n",
       "70697          USA              NaN  \n",
       "113885         ESP         214741.0  "
      ]
     },
     "execution_count": 41,
     "metadata": {},
     "output_type": "execute_result"
    }
   ],
   "source": [
    "X.loc[X.age == 0, \"age\"] = np.nan\n",
    "X[X.age < 20]"
   ]
  },
  {
   "cell_type": "code",
   "execution_count": 42,
   "id": "0db40606",
   "metadata": {},
   "outputs": [
    {
     "data": {
      "text/html": [
       "<div>\n",
       "<style scoped>\n",
       "    .dataframe tbody tr th:only-of-type {\n",
       "        vertical-align: middle;\n",
       "    }\n",
       "\n",
       "    .dataframe tbody tr th {\n",
       "        vertical-align: top;\n",
       "    }\n",
       "\n",
       "    .dataframe thead th {\n",
       "        text-align: right;\n",
       "    }\n",
       "</style>\n",
       "<table border=\"1\" class=\"dataframe\">\n",
       "  <thead>\n",
       "    <tr style=\"text-align: right;\">\n",
       "      <th></th>\n",
       "      <th>race_year_id</th>\n",
       "      <th>ranking</th>\n",
       "      <th>runner</th>\n",
       "      <th>time</th>\n",
       "      <th>age</th>\n",
       "      <th>gender</th>\n",
       "      <th>nationality</th>\n",
       "      <th>time_in_seconds</th>\n",
       "    </tr>\n",
       "  </thead>\n",
       "  <tbody>\n",
       "    <tr>\n",
       "      <th>37633</th>\n",
       "      <td>35721</td>\n",
       "      <td>218.0</td>\n",
       "      <td>KONDIC Stefan</td>\n",
       "      <td>40H 56M 21S</td>\n",
       "      <td>133.0</td>\n",
       "      <td>M</td>\n",
       "      <td>SRB</td>\n",
       "      <td>147381.0</td>\n",
       "    </tr>\n",
       "    <tr>\n",
       "      <th>43831</th>\n",
       "      <td>30573</td>\n",
       "      <td>48.0</td>\n",
       "      <td>KONDIC Stefan</td>\n",
       "      <td>43H 15M 10S</td>\n",
       "      <td>133.0</td>\n",
       "      <td>M</td>\n",
       "      <td>SRB</td>\n",
       "      <td>155710.0</td>\n",
       "    </tr>\n",
       "    <tr>\n",
       "      <th>79500</th>\n",
       "      <td>13476</td>\n",
       "      <td>244.0</td>\n",
       "      <td>KONDIC Stefan</td>\n",
       "      <td>45H 48M 3S</td>\n",
       "      <td>133.0</td>\n",
       "      <td>M</td>\n",
       "      <td>SRB</td>\n",
       "      <td>164883.0</td>\n",
       "    </tr>\n",
       "  </tbody>\n",
       "</table>\n",
       "</div>"
      ],
      "text/plain": [
       "       race_year_id  ranking         runner         time    age gender  \\\n",
       "37633         35721    218.0  KONDIC Stefan  40H 56M 21S  133.0      M   \n",
       "43831         30573     48.0  KONDIC Stefan  43H 15M 10S  133.0      M   \n",
       "79500         13476    244.0  KONDIC Stefan   45H 48M 3S  133.0      M   \n",
       "\n",
       "      nationality  time_in_seconds  \n",
       "37633         SRB         147381.0  \n",
       "43831         SRB         155710.0  \n",
       "79500         SRB         164883.0  "
      ]
     },
     "execution_count": 42,
     "metadata": {},
     "output_type": "execute_result"
    }
   ],
   "source": [
    "X[X.age > 90]"
   ]
  },
  {
   "cell_type": "code",
   "execution_count": 37,
   "id": "d00a8224",
   "metadata": {},
   "outputs": [
    {
     "data": {
      "text/plain": [
       "<AxesSubplot:>"
      ]
     },
     "execution_count": 37,
     "metadata": {},
     "output_type": "execute_result"
    },
    {
     "data": {
      "image/png": "[encoded data removed]",
      "text/plain": [
       "<Figure size 432x288 with 1 Axes>"
      ]
     },
     "metadata": {
      "needs_background": "light"
     },
     "output_type": "display_data"
    }
   ],
   "source": [
    "sns.heatmap(X.isnull(), cbar = False)"
   ]
  },
  {
   "cell_type": "code",
   "execution_count": null,
   "id": "5cb665b6",
   "metadata": {},
   "outputs": [],
   "source": []
  }
 ],
 "metadata": {
  "kernelspec": {
   "display_name": "Python 3 (ipykernel)",
   "language": "python",
   "name": "python3"
  },
  "language_info": {
   "codemirror_mode": {
    "name": "ipython",
    "version": 3
   },
   "file_extension": ".py",
   "mimetype": "text/x-python",
   "name": "python",
   "nbconvert_exporter": "python",
   "pygments_lexer": "ipython3",
   "version": "3.9.7"
  }
 },
 "nbformat": 4,
 "nbformat_minor": 5
}
