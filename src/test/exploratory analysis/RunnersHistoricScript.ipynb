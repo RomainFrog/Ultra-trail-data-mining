{
 "cells": [
  {
   "cell_type": "code",
   "execution_count": 111,
   "id": "16f4c3e8",
   "metadata": {},
   "outputs": [],
   "source": [
    "import pandas as pd\n",
    "import numpy as np\n",
    "import seaborn as sns\n",
    "import matplotlib.pyplot as plt\n",
    "from tqdm import tqdm"
   ]
  },
  {
   "cell_type": "code",
   "execution_count": 112,
   "id": "128bab07",
   "metadata": {},
   "outputs": [],
   "source": [
    "runner = pd.read_csv(\"../../../output/data_clean/cleaned_runner.csv\", index_col=0)\n",
    "race = pd.read_csv(\"../../../output/data_clean/cleaned_race_equivalent_distance.csv\", index_col= 0)\n",
    "runner.age_range = pd.Categorical(\n",
    "    runner.age_range, categories=['16-25','26-40','40-60','61+','Undefined'],ordered=True\n",
    ")\n",
    "runner = runner.dropna()"
   ]
  },
  {
   "cell_type": "code",
   "execution_count": 113,
   "id": "ab07dd5f",
   "metadata": {},
   "outputs": [],
   "source": [
    "runner.ranking = join.ranking / join.participants"
   ]
  },
  {
   "cell_type": "code",
   "execution_count": 114,
   "id": "33e176e8",
   "metadata": {},
   "outputs": [],
   "source": [
    "race = race.assign(\n",
    "    date = pd.to_datetime(race[['month', 'day', 'year']])\n",
    ")"
   ]
  },
  {
   "cell_type": "code",
   "execution_count": 115,
   "id": "78695554",
   "metadata": {},
   "outputs": [],
   "source": [
    "join = pd.merge(runner, race, left_on=\"race_year_id\", right_on=\"race_year_id\", how=\"left\")\n",
    "join = join.loc[join.age_range != \"Undefined\"]"
   ]
  },
  {
   "cell_type": "code",
   "execution_count": 116,
   "id": "227907d8",
   "metadata": {
    "scrolled": true
   },
   "outputs": [
    {
     "name": "stdout",
     "output_type": "stream",
     "text": [
      "<class 'pandas.core.frame.DataFrame'>\n",
      "Int64Index: 112176 entries, 0 to 112185\n",
      "Data columns (total 29 columns):\n",
      " #   Column                Non-Null Count   Dtype         \n",
      "---  ------                --------------   -----         \n",
      " 0   race_year_id          112176 non-null  int64         \n",
      " 1   ranking               66222 non-null   float64       \n",
      " 2   runner                112176 non-null  object        \n",
      " 3   time                  112176 non-null  object        \n",
      " 4   age                   112176 non-null  float64       \n",
      " 5   gender                112176 non-null  object        \n",
      " 6   nationality           112176 non-null  object        \n",
      " 7   time_in_seconds       112176 non-null  float64       \n",
      " 8   runner_id             112176 non-null  object        \n",
      " 9   age_course            112176 non-null  float64       \n",
      " 10  age_range             112176 non-null  category      \n",
      " 11  speed                 112176 non-null  float64       \n",
      " 12  equivalent_speed      112176 non-null  float64       \n",
      " 13  event                 112176 non-null  object        \n",
      " 14  race                  112176 non-null  object        \n",
      " 15  country               112176 non-null  object        \n",
      " 16  participation         112176 non-null  object        \n",
      " 17  distance              112176 non-null  float64       \n",
      " 18  elevation_gain        112176 non-null  float64       \n",
      " 19  elevation_loss        112176 non-null  float64       \n",
      " 20  aid_stations          112176 non-null  int64         \n",
      " 21  participants          112176 non-null  int64         \n",
      " 22  year                  112176 non-null  int64         \n",
      " 23  month                 112176 non-null  int64         \n",
      " 24  day                   112176 non-null  int64         \n",
      " 25  frequency_in_ranking  112176 non-null  int64         \n",
      " 26  equivalent_distance   112176 non-null  float64       \n",
      " 27  weighted_elevation    112176 non-null  float64       \n",
      " 28  date                  112176 non-null  datetime64[ns]\n",
      "dtypes: category(1), datetime64[ns](1), float64(11), int64(7), object(9)\n",
      "memory usage: 24.9+ MB\n"
     ]
    }
   ],
   "source": [
    "join.info()"
   ]
  },
  {
   "cell_type": "code",
   "execution_count": 117,
   "id": "90f4bd93",
   "metadata": {},
   "outputs": [
    {
     "data": {
      "text/plain": [
       "<AxesSubplot:xlabel='year', ylabel='count'>"
      ]
     },
     "execution_count": 117,
     "metadata": {},
     "output_type": "execute_result"
    },
    {
     "data": {
      "image/png": "[encoded data removed]",
      "text/plain": [
       "<Figure size 432x288 with 1 Axes>"
      ]
     },
     "metadata": {
      "needs_background": "light"
     },
     "output_type": "display_data"
    }
   ],
   "source": [
    "sns.countplot(\n",
    "    x = 'year',\n",
    "    data = join\n",
    ")"
   ]
  },
  {
   "cell_type": "markdown",
   "id": "6fe9adcd",
   "metadata": {},
   "source": [
    "## Prédiction de performance pour les coureurs en 2019"
   ]
  },
  {
   "cell_type": "code",
   "execution_count": 118,
   "id": "c050707e",
   "metadata": {},
   "outputs": [],
   "source": [
    "def scoring(x):\n",
    "    return 1/x"
   ]
  },
  {
   "cell_type": "code",
   "execution_count": 119,
   "id": "11bdc39b",
   "metadata": {},
   "outputs": [],
   "source": [
    "def runner_profile(join, race, race_year_id_to_predict):\n",
    "    #Collect data from course\n",
    "    race_to_predict = race.loc[race.race_year_id == race_year_id_to_predict]\n",
    "    race_year_id = race_to_predict.iloc[0]['race_year_id']\n",
    "    print(race_to_predict.iloc[0])\n",
    "    date_to_predict = race_to_predict.iloc[0]['date']\n",
    "    distance_to_predict = race_to_predict.iloc[0]['equivalent_distance']\n",
    "    #Return df\n",
    "    df = pd.DataFrame()\n",
    "    \n",
    "    unique_runners = join.loc[join.race_year_id == race_year_id]['runner_id'].unique()\n",
    "    for runner in tqdm(unique_runners):\n",
    "        runner_info = join.loc[(join.runner_id == runner) & (join.date == date_to_predict)]\n",
    "        runner_past = join.loc[(join.runner_id == runner) & (join.date < date_to_predict)]\n",
    "        \n",
    "        # Data processing\n",
    "        #General data\n",
    "        runner_id =  runner\n",
    "        age = runner_info['age'].iloc[0]\n",
    "        gender = runner_info['gender'].iloc[0]\n",
    "        nationality = runner_info['nationality'].iloc[0]\n",
    "        \n",
    "        #Processed data\n",
    "        has_run = 0\n",
    "        total_distance = 0\n",
    "        total_races = 0\n",
    "        has_run_last_year = 0\n",
    "        has_run_equivalent_course = 0\n",
    "        avg_course_per_year = 0\n",
    "        distance_previous_year = 0\n",
    "        ranking_score = 0\n",
    "        \n",
    "        if runner_past.size > 0: \n",
    "            has_run = 1\n",
    "            total_distance =  runner_past.equivalent_distance.sum()\n",
    "            total_races = runner_past.shape[0]\n",
    "            for name, values in runner_past['ranking'].iteritems():\n",
    "                ranking_score += 1/values\n",
    "               \n",
    "            last_year_df = runner_past.loc[runner_past.date > date_to_predict - pd.DateOffset(years=1)]\n",
    "            if len(last_year_df) > 0:\n",
    "                has_run_last_year = 1\n",
    "                distance_previous_year = last_year_df.equivalent_distance.sum()\n",
    "            if len(runner_past.loc[runner_past.equivalent_distance >= distance_to_predict -10 ]):\n",
    "                has_run_equivalent_course = 1\n",
    "            \n",
    "            year_interval = runner_past.year.max()- runner_past.year.min()\n",
    "            if year_interval != 0:\n",
    "                avg_course_per_year = total_races / year_interval\n",
    "            \n",
    "            \n",
    "            \n",
    "        df = df.append({'runner_id': runner_id, \n",
    "                        'age': age, \n",
    "                        'gender': gender, \n",
    "                        'nationality':nationality,\n",
    "                        'total_distance': total_distance,\n",
    "                        'distance_previous_year': distance_previous_year,\n",
    "                        'total_races': total_races,\n",
    "                        'has_run': has_run,\n",
    "                        'has_run_last_year': has_run_last_year,\n",
    "                        'has_run_equivalent_course': has_run_equivalent_course,\n",
    "                        'avg_course_per_year': avg_course_per_year,\n",
    "                        'ranking_score': ranking_score\n",
    "                       }, ignore_index = True)\n",
    "    return df"
   ]
  },
  {
   "cell_type": "code",
   "execution_count": 120,
   "id": "4134e722",
   "metadata": {},
   "outputs": [
    {
     "name": "stdout",
     "output_type": "stream",
     "text": [
      "race_year_id                          54013\n",
      "event                           SPARNATRAIL\n",
      "race                     P'tiot Sparnatrail\n",
      "country                              France\n",
      "participation                          solo\n",
      "distance                               33.3\n",
      "elevation_gain                        750.0\n",
      "elevation_loss                       -750.0\n",
      "aid_stations                              1\n",
      "participants                           1800\n",
      "year                                   2019\n",
      "month                                    11\n",
      "day                                      10\n",
      "frequency_in_ranking                    693\n",
      "equivalent_distance                    40.8\n",
      "weighted_elevation                 0.183824\n",
      "date                    2019-11-10 00:00:00\n",
      "Name: 110, dtype: object\n"
     ]
    },
    {
     "name": "stderr",
     "output_type": "stream",
     "text": [
      "100%|█████████████████████████████████████████| 692/692 [00:08<00:00, 79.22it/s]\n"
     ]
    }
   ],
   "source": [
    "runner_p = runner_profile(join,race, 54013)"
   ]
  },
  {
   "cell_type": "code",
   "execution_count": 121,
   "id": "ba41cdd9",
   "metadata": {},
   "outputs": [
    {
     "data": {
      "text/html": [
       "<div>\n",
       "<style scoped>\n",
       "    .dataframe tbody tr th:only-of-type {\n",
       "        vertical-align: middle;\n",
       "    }\n",
       "\n",
       "    .dataframe tbody tr th {\n",
       "        vertical-align: top;\n",
       "    }\n",
       "\n",
       "    .dataframe thead th {\n",
       "        text-align: right;\n",
       "    }\n",
       "</style>\n",
       "<table border=\"1\" class=\"dataframe\">\n",
       "  <thead>\n",
       "    <tr style=\"text-align: right;\">\n",
       "      <th></th>\n",
       "      <th>runner_id</th>\n",
       "      <th>age</th>\n",
       "      <th>gender</th>\n",
       "      <th>nationality</th>\n",
       "      <th>total_distance</th>\n",
       "      <th>distance_previous_year</th>\n",
       "      <th>total_races</th>\n",
       "      <th>has_run</th>\n",
       "      <th>has_run_last_year</th>\n",
       "      <th>has_run_equivalent_course</th>\n",
       "      <th>avg_course_per_year</th>\n",
       "      <th>ranking_score</th>\n",
       "    </tr>\n",
       "  </thead>\n",
       "  <tbody>\n",
       "    <tr>\n",
       "      <th>0</th>\n",
       "      <td>TIPHENEGuillaumeFRAM27.0</td>\n",
       "      <td>27.0</td>\n",
       "      <td>M</td>\n",
       "      <td>FRA</td>\n",
       "      <td>0.0</td>\n",
       "      <td>0.0</td>\n",
       "      <td>0.0</td>\n",
       "      <td>0.0</td>\n",
       "      <td>0.0</td>\n",
       "      <td>0.0</td>\n",
       "      <td>0.0</td>\n",
       "      <td>0.00000</td>\n",
       "    </tr>\n",
       "    <tr>\n",
       "      <th>1</th>\n",
       "      <td>MAESPaulFRAM34.0</td>\n",
       "      <td>34.0</td>\n",
       "      <td>M</td>\n",
       "      <td>FRA</td>\n",
       "      <td>0.0</td>\n",
       "      <td>0.0</td>\n",
       "      <td>0.0</td>\n",
       "      <td>0.0</td>\n",
       "      <td>0.0</td>\n",
       "      <td>0.0</td>\n",
       "      <td>0.0</td>\n",
       "      <td>0.00000</td>\n",
       "    </tr>\n",
       "    <tr>\n",
       "      <th>2</th>\n",
       "      <td>NADRISamirFRAM25.0</td>\n",
       "      <td>25.0</td>\n",
       "      <td>M</td>\n",
       "      <td>FRA</td>\n",
       "      <td>269.9</td>\n",
       "      <td>0.0</td>\n",
       "      <td>1.0</td>\n",
       "      <td>1.0</td>\n",
       "      <td>0.0</td>\n",
       "      <td>1.0</td>\n",
       "      <td>0.0</td>\n",
       "      <td>10.97561</td>\n",
       "    </tr>\n",
       "    <tr>\n",
       "      <th>3</th>\n",
       "      <td>HingrandCorentinFRAM24.0</td>\n",
       "      <td>24.0</td>\n",
       "      <td>M</td>\n",
       "      <td>FRA</td>\n",
       "      <td>0.0</td>\n",
       "      <td>0.0</td>\n",
       "      <td>0.0</td>\n",
       "      <td>0.0</td>\n",
       "      <td>0.0</td>\n",
       "      <td>0.0</td>\n",
       "      <td>0.0</td>\n",
       "      <td>0.00000</td>\n",
       "    </tr>\n",
       "    <tr>\n",
       "      <th>4</th>\n",
       "      <td>FRANCOISFlorentFRAM31.0</td>\n",
       "      <td>31.0</td>\n",
       "      <td>M</td>\n",
       "      <td>FRA</td>\n",
       "      <td>0.0</td>\n",
       "      <td>0.0</td>\n",
       "      <td>0.0</td>\n",
       "      <td>0.0</td>\n",
       "      <td>0.0</td>\n",
       "      <td>0.0</td>\n",
       "      <td>0.0</td>\n",
       "      <td>0.00000</td>\n",
       "    </tr>\n",
       "    <tr>\n",
       "      <th>...</th>\n",
       "      <td>...</td>\n",
       "      <td>...</td>\n",
       "      <td>...</td>\n",
       "      <td>...</td>\n",
       "      <td>...</td>\n",
       "      <td>...</td>\n",
       "      <td>...</td>\n",
       "      <td>...</td>\n",
       "      <td>...</td>\n",
       "      <td>...</td>\n",
       "      <td>...</td>\n",
       "      <td>...</td>\n",
       "    </tr>\n",
       "    <tr>\n",
       "      <th>687</th>\n",
       "      <td>BERKIAEmmanuelleFRAW44.0</td>\n",
       "      <td>44.0</td>\n",
       "      <td>W</td>\n",
       "      <td>FRA</td>\n",
       "      <td>0.0</td>\n",
       "      <td>0.0</td>\n",
       "      <td>0.0</td>\n",
       "      <td>0.0</td>\n",
       "      <td>0.0</td>\n",
       "      <td>0.0</td>\n",
       "      <td>0.0</td>\n",
       "      <td>0.00000</td>\n",
       "    </tr>\n",
       "    <tr>\n",
       "      <th>688</th>\n",
       "      <td>LEBONSebastienFRAM45.0</td>\n",
       "      <td>45.0</td>\n",
       "      <td>M</td>\n",
       "      <td>FRA</td>\n",
       "      <td>0.0</td>\n",
       "      <td>0.0</td>\n",
       "      <td>0.0</td>\n",
       "      <td>0.0</td>\n",
       "      <td>0.0</td>\n",
       "      <td>0.0</td>\n",
       "      <td>0.0</td>\n",
       "      <td>0.00000</td>\n",
       "    </tr>\n",
       "    <tr>\n",
       "      <th>689</th>\n",
       "      <td>TONDELLIERChouFRAW34.0</td>\n",
       "      <td>34.0</td>\n",
       "      <td>W</td>\n",
       "      <td>FRA</td>\n",
       "      <td>0.0</td>\n",
       "      <td>0.0</td>\n",
       "      <td>0.0</td>\n",
       "      <td>0.0</td>\n",
       "      <td>0.0</td>\n",
       "      <td>0.0</td>\n",
       "      <td>0.0</td>\n",
       "      <td>0.00000</td>\n",
       "    </tr>\n",
       "    <tr>\n",
       "      <th>690</th>\n",
       "      <td>GALATEAUJulieFRAW33.0</td>\n",
       "      <td>33.0</td>\n",
       "      <td>W</td>\n",
       "      <td>FRA</td>\n",
       "      <td>0.0</td>\n",
       "      <td>0.0</td>\n",
       "      <td>0.0</td>\n",
       "      <td>0.0</td>\n",
       "      <td>0.0</td>\n",
       "      <td>0.0</td>\n",
       "      <td>0.0</td>\n",
       "      <td>0.00000</td>\n",
       "    </tr>\n",
       "    <tr>\n",
       "      <th>691</th>\n",
       "      <td>SCHELFHOUTClaireFRAW29.0</td>\n",
       "      <td>29.0</td>\n",
       "      <td>W</td>\n",
       "      <td>FRA</td>\n",
       "      <td>0.0</td>\n",
       "      <td>0.0</td>\n",
       "      <td>0.0</td>\n",
       "      <td>0.0</td>\n",
       "      <td>0.0</td>\n",
       "      <td>0.0</td>\n",
       "      <td>0.0</td>\n",
       "      <td>0.00000</td>\n",
       "    </tr>\n",
       "  </tbody>\n",
       "</table>\n",
       "<p>692 rows × 12 columns</p>\n",
       "</div>"
      ],
      "text/plain": [
       "                    runner_id   age gender nationality  total_distance  \\\n",
       "0    TIPHENEGuillaumeFRAM27.0  27.0      M         FRA             0.0   \n",
       "1            MAESPaulFRAM34.0  34.0      M         FRA             0.0   \n",
       "2          NADRISamirFRAM25.0  25.0      M         FRA           269.9   \n",
       "3    HingrandCorentinFRAM24.0  24.0      M         FRA             0.0   \n",
       "4     FRANCOISFlorentFRAM31.0  31.0      M         FRA             0.0   \n",
       "..                        ...   ...    ...         ...             ...   \n",
       "687  BERKIAEmmanuelleFRAW44.0  44.0      W         FRA             0.0   \n",
       "688    LEBONSebastienFRAM45.0  45.0      M         FRA             0.0   \n",
       "689    TONDELLIERChouFRAW34.0  34.0      W         FRA             0.0   \n",
       "690     GALATEAUJulieFRAW33.0  33.0      W         FRA             0.0   \n",
       "691  SCHELFHOUTClaireFRAW29.0  29.0      W         FRA             0.0   \n",
       "\n",
       "     distance_previous_year  total_races  has_run  has_run_last_year  \\\n",
       "0                       0.0          0.0      0.0                0.0   \n",
       "1                       0.0          0.0      0.0                0.0   \n",
       "2                       0.0          1.0      1.0                0.0   \n",
       "3                       0.0          0.0      0.0                0.0   \n",
       "4                       0.0          0.0      0.0                0.0   \n",
       "..                      ...          ...      ...                ...   \n",
       "687                     0.0          0.0      0.0                0.0   \n",
       "688                     0.0          0.0      0.0                0.0   \n",
       "689                     0.0          0.0      0.0                0.0   \n",
       "690                     0.0          0.0      0.0                0.0   \n",
       "691                     0.0          0.0      0.0                0.0   \n",
       "\n",
       "     has_run_equivalent_course  avg_course_per_year  ranking_score  \n",
       "0                          0.0                  0.0        0.00000  \n",
       "1                          0.0                  0.0        0.00000  \n",
       "2                          1.0                  0.0       10.97561  \n",
       "3                          0.0                  0.0        0.00000  \n",
       "4                          0.0                  0.0        0.00000  \n",
       "..                         ...                  ...            ...  \n",
       "687                        0.0                  0.0        0.00000  \n",
       "688                        0.0                  0.0        0.00000  \n",
       "689                        0.0                  0.0        0.00000  \n",
       "690                        0.0                  0.0        0.00000  \n",
       "691                        0.0                  0.0        0.00000  \n",
       "\n",
       "[692 rows x 12 columns]"
      ]
     },
     "execution_count": 121,
     "metadata": {},
     "output_type": "execute_result"
    }
   ],
   "source": [
    "runner_p"
   ]
  },
  {
   "cell_type": "code",
   "execution_count": 126,
   "id": "9f1ce832",
   "metadata": {
    "scrolled": true
   },
   "outputs": [
    {
     "data": {
      "text/plain": [
       "<AxesSubplot:xlabel='ranking_score', ylabel='Count'>"
      ]
     },
     "execution_count": 126,
     "metadata": {},
     "output_type": "execute_result"
    },
    {
     "data": {
      "image/png": "[encoded data removed]",
      "text/plain": [
       "<Figure size 432x288 with 1 Axes>"
      ]
     },
     "metadata": {
      "needs_background": "light"
     },
     "output_type": "display_data"
    }
   ],
   "source": [
    "sns.histplot(\n",
    "    x = runner_p.ranking_score\n",
    ")"
   ]
  },
  {
   "cell_type": "code",
   "execution_count": null,
   "id": "0cb8e397",
   "metadata": {},
   "outputs": [],
   "source": []
  }
 ],
 "metadata": {
  "kernelspec": {
   "display_name": "Python 3 (ipykernel)",
   "language": "python",
   "name": "python3"
  },
  "language_info": {
   "codemirror_mode": {
    "name": "ipython",
    "version": 3
   },
   "file_extension": ".py",
   "mimetype": "text/x-python",
   "name": "python",
   "nbconvert_exporter": "python",
   "pygments_lexer": "ipython3",
   "version": "3.9.7"
  }
 },
 "nbformat": 4,
 "nbformat_minor": 5
}
