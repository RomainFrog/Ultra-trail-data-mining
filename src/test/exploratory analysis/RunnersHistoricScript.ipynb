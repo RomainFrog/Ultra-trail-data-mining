{
 "cells": [
  {
   "cell_type": "code",
   "execution_count": 161,
   "id": "16f4c3e8",
   "metadata": {},
   "outputs": [],
   "source": [
    "import pandas as pd\n",
    "import numpy as np\n",
    "import seaborn as sns\n",
    "import matplotlib.pyplot as plt\n",
    "from tqdm import tqdm"
   ]
  },
  {
   "cell_type": "code",
   "execution_count": 162,
   "id": "128bab07",
   "metadata": {},
   "outputs": [],
   "source": [
    "runner = pd.read_csv(\"../../../output/data_clean/cleaned_runner.csv\", index_col=0)\n",
    "race = pd.read_csv(\"../../../output/data_clean/cleaned_race_equivalent_distance.csv\", index_col= 0)\n",
    "runner.age_range = pd.Categorical(\n",
    "    runner.age_range, categories=['16-25','26-40','40-60','61+','Undefined'],ordered=True\n",
    ")\n",
    "runner = runner.dropna()"
   ]
  },
  {
   "cell_type": "markdown",
   "id": "7f23726f",
   "metadata": {},
   "source": [
    "## Pretraitement"
   ]
  },
  {
   "cell_type": "code",
   "execution_count": 164,
   "id": "78695554",
   "metadata": {},
   "outputs": [],
   "source": [
    "race = race.assign(\n",
    "    date = pd.to_datetime(race[['month', 'day', 'year']])\n",
    ")\n",
    "join = pd.merge(runner, race, left_on=\"race_year_id\", right_on=\"race_year_id\", how=\"left\")\n",
    "join = join.loc[join.age_range != \"Undefined\"]\n",
    "join = join.assign(\n",
    "    relative_ranking = join.ranking / join.frequency_in_ranking\n",
    ")"
   ]
  },
  {
   "cell_type": "markdown",
   "id": "6fe9adcd",
   "metadata": {},
   "source": [
    "## Prédiction de performance pour les coureurs en 2019"
   ]
  },
  {
   "cell_type": "code",
   "execution_count": 206,
   "id": "11bdc39b",
   "metadata": {},
   "outputs": [],
   "source": [
    "def runner_profile(join, race, race_year_id_to_predict):\n",
    "    #Collect data from course\n",
    "    race_to_predict = race.loc[race.race_year_id == race_year_id_to_predict]\n",
    "    race_year_id = race_to_predict.iloc[0]['race_year_id']\n",
    "    date_to_predict = race_to_predict.iloc[0]['date']\n",
    "    distance_to_predict = race_to_predict.iloc[0]['equivalent_distance']\n",
    "    #Return df\n",
    "    df = pd.DataFrame()\n",
    "    \n",
    "    unique_runners = join.loc[join.race_year_id == race_year_id]['runner_id'].unique()\n",
    "    for runner in tqdm(unique_runners):\n",
    "        runner_info = join.loc[(join.runner_id == runner) & (join.date == date_to_predict)]\n",
    "        runner_past = join.loc[(join.runner_id == runner) & (join.date < date_to_predict)]\n",
    "        \n",
    "        # Data processing\n",
    "        #General data\n",
    "        runner_id =  runner\n",
    "        age = runner_info['age'].iloc[0]\n",
    "        gender = runner_info['gender'].iloc[0]\n",
    "        nationality = runner_info['nationality'].iloc[0]\n",
    "        \n",
    "        #Processed data\n",
    "        has_run = 0\n",
    "        total_distance = 0\n",
    "        total_races = 0\n",
    "        has_run_last_year = 0\n",
    "        has_run_equivalent_course = 0\n",
    "        avg_course_per_year = 0\n",
    "        distance_previous_year = 0\n",
    "        ranking_score = 0\n",
    "        \n",
    "        if runner_past.size > 0: \n",
    "            has_run = 1\n",
    "            total_distance =  runner_past.equivalent_distance.sum()\n",
    "            total_races = runner_past.shape[0]\n",
    "            \n",
    "            for i in range(len(runner_past)):\n",
    "                ranking_score += (1 / runner_past.iloc[i,1]) * np.log(runner_past.iloc[i,22] - 2010)\n",
    "               \n",
    "            last_year_df = runner_past.loc[runner_past.date > date_to_predict - pd.DateOffset(years=1)]\n",
    "            if len(last_year_df) > 0:\n",
    "                has_run_last_year = 1\n",
    "                distance_previous_year = last_year_df.equivalent_distance.sum()\n",
    "            if len(runner_past.loc[runner_past.equivalent_distance >= distance_to_predict -10 ]):\n",
    "                has_run_equivalent_course = 1\n",
    "            \n",
    "            year_interval = runner_past.year.max()- runner_past.year.min()\n",
    "            if year_interval != 0:\n",
    "                avg_course_per_year = total_races / year_interval\n",
    "            \n",
    "            \n",
    "            \n",
    "        df = df.append({'runner_id': runner_id, \n",
    "                        'age': age, \n",
    "                        'gender': gender, \n",
    "                        'nationality':nationality,\n",
    "                        'total_distance': total_distance,\n",
    "                        'distance_previous_year': distance_previous_year,\n",
    "                        'total_races': total_races,\n",
    "                        'has_run': has_run,\n",
    "                        'has_run_last_year': has_run_last_year,\n",
    "                        'has_run_equivalent_course': has_run_equivalent_course,\n",
    "                        'avg_course_per_year': avg_course_per_year,\n",
    "                        'ranking_score': ranking_score\n",
    "                       }, ignore_index = True)\n",
    "        \n",
    "        \n",
    "    actual_values = join.loc[join.race_year_id == race_year_id_to_predict][['runner_id','ranking','relative_ranking','time_in_seconds']]\n",
    "    df = pd.merge(df, actual_values, left_on=\"runner_id\", right_on=\"runner_id\", how=\"left\")\n",
    "    \n",
    "    return df"
   ]
  },
  {
   "cell_type": "code",
   "execution_count": 207,
   "id": "4134e722",
   "metadata": {
    "scrolled": true
   },
   "outputs": [
    {
     "name": "stderr",
     "output_type": "stream",
     "text": [
      "100%|███████████████████████████████████████| 1557/1557 [00:20<00:00, 74.35it/s]\n"
     ]
    }
   ],
   "source": [
    "runner_p = runner_profile(join,race, 39881)"
   ]
  },
  {
   "cell_type": "code",
   "execution_count": 208,
   "id": "ba41cdd9",
   "metadata": {},
   "outputs": [
    {
     "data": {
      "text/html": [
       "<div>\n",
       "<style scoped>\n",
       "    .dataframe tbody tr th:only-of-type {\n",
       "        vertical-align: middle;\n",
       "    }\n",
       "\n",
       "    .dataframe tbody tr th {\n",
       "        vertical-align: top;\n",
       "    }\n",
       "\n",
       "    .dataframe thead th {\n",
       "        text-align: right;\n",
       "    }\n",
       "</style>\n",
       "<table border=\"1\" class=\"dataframe\">\n",
       "  <thead>\n",
       "    <tr style=\"text-align: right;\">\n",
       "      <th></th>\n",
       "      <th>runner_id</th>\n",
       "      <th>age</th>\n",
       "      <th>gender</th>\n",
       "      <th>nationality</th>\n",
       "      <th>total_distance</th>\n",
       "      <th>distance_previous_year</th>\n",
       "      <th>total_races</th>\n",
       "      <th>has_run</th>\n",
       "      <th>has_run_last_year</th>\n",
       "      <th>has_run_equivalent_course</th>\n",
       "      <th>avg_course_per_year</th>\n",
       "      <th>ranking_score</th>\n",
       "      <th>ranking</th>\n",
       "      <th>relative_ranking</th>\n",
       "      <th>time_in_seconds</th>\n",
       "    </tr>\n",
       "  </thead>\n",
       "  <tbody>\n",
       "    <tr>\n",
       "      <th>0</th>\n",
       "      <td>CAPELLPauESPM30.0</td>\n",
       "      <td>30.0</td>\n",
       "      <td>M</td>\n",
       "      <td>ESP</td>\n",
       "      <td>741.80</td>\n",
       "      <td>229.9</td>\n",
       "      <td>3.0</td>\n",
       "      <td>1.0</td>\n",
       "      <td>1.0</td>\n",
       "      <td>1.0</td>\n",
       "      <td>1.500000</td>\n",
       "      <td>3.561264</td>\n",
       "      <td>1.0</td>\n",
       "      <td>0.000392</td>\n",
       "      <td>73147.0</td>\n",
       "    </tr>\n",
       "    <tr>\n",
       "      <th>1</th>\n",
       "      <td>THEVENARDXavierFRAM33.0</td>\n",
       "      <td>33.0</td>\n",
       "      <td>M</td>\n",
       "      <td>FRA</td>\n",
       "      <td>1579.93</td>\n",
       "      <td>512.0</td>\n",
       "      <td>6.0</td>\n",
       "      <td>1.0</td>\n",
       "      <td>1.0</td>\n",
       "      <td>1.0</td>\n",
       "      <td>1.000000</td>\n",
       "      <td>8.068447</td>\n",
       "      <td>2.0</td>\n",
       "      <td>0.000785</td>\n",
       "      <td>76076.0</td>\n",
       "    </tr>\n",
       "    <tr>\n",
       "      <th>2</th>\n",
       "      <td>HAWKERScottNZLM34.0</td>\n",
       "      <td>34.0</td>\n",
       "      <td>M</td>\n",
       "      <td>NZL</td>\n",
       "      <td>532.28</td>\n",
       "      <td>0.0</td>\n",
       "      <td>2.0</td>\n",
       "      <td>1.0</td>\n",
       "      <td>0.0</td>\n",
       "      <td>1.0</td>\n",
       "      <td>0.666667</td>\n",
       "      <td>0.198562</td>\n",
       "      <td>3.0</td>\n",
       "      <td>0.001177</td>\n",
       "      <td>78484.0</td>\n",
       "    </tr>\n",
       "    <tr>\n",
       "      <th>3</th>\n",
       "      <td>OWENSTomGBRM40.0</td>\n",
       "      <td>40.0</td>\n",
       "      <td>M</td>\n",
       "      <td>GBR</td>\n",
       "      <td>0.00</td>\n",
       "      <td>0.0</td>\n",
       "      <td>0.0</td>\n",
       "      <td>0.0</td>\n",
       "      <td>0.0</td>\n",
       "      <td>0.0</td>\n",
       "      <td>0.000000</td>\n",
       "      <td>0.000000</td>\n",
       "      <td>4.0</td>\n",
       "      <td>0.001569</td>\n",
       "      <td>79469.0</td>\n",
       "    </tr>\n",
       "    <tr>\n",
       "      <th>4</th>\n",
       "      <td>SYMONDSAndyGBRM40.0</td>\n",
       "      <td>40.0</td>\n",
       "      <td>M</td>\n",
       "      <td>GBR</td>\n",
       "      <td>268.40</td>\n",
       "      <td>0.0</td>\n",
       "      <td>1.0</td>\n",
       "      <td>1.0</td>\n",
       "      <td>0.0</td>\n",
       "      <td>1.0</td>\n",
       "      <td>0.000000</td>\n",
       "      <td>0.121619</td>\n",
       "      <td>5.0</td>\n",
       "      <td>0.001962</td>\n",
       "      <td>81315.0</td>\n",
       "    </tr>\n",
       "    <tr>\n",
       "      <th>...</th>\n",
       "      <td>...</td>\n",
       "      <td>...</td>\n",
       "      <td>...</td>\n",
       "      <td>...</td>\n",
       "      <td>...</td>\n",
       "      <td>...</td>\n",
       "      <td>...</td>\n",
       "      <td>...</td>\n",
       "      <td>...</td>\n",
       "      <td>...</td>\n",
       "      <td>...</td>\n",
       "      <td>...</td>\n",
       "      <td>...</td>\n",
       "      <td>...</td>\n",
       "      <td>...</td>\n",
       "    </tr>\n",
       "    <tr>\n",
       "      <th>1554</th>\n",
       "      <td>CHUILokNinJoeHKGM42.0</td>\n",
       "      <td>42.0</td>\n",
       "      <td>M</td>\n",
       "      <td>HKG</td>\n",
       "      <td>483.80</td>\n",
       "      <td>0.0</td>\n",
       "      <td>2.0</td>\n",
       "      <td>1.0</td>\n",
       "      <td>0.0</td>\n",
       "      <td>0.0</td>\n",
       "      <td>2.000000</td>\n",
       "      <td>0.024805</td>\n",
       "      <td>1552.0</td>\n",
       "      <td>0.608866</td>\n",
       "      <td>167493.0</td>\n",
       "    </tr>\n",
       "    <tr>\n",
       "      <th>1555</th>\n",
       "      <td>TSEHonShingHKGM62.0</td>\n",
       "      <td>62.0</td>\n",
       "      <td>M</td>\n",
       "      <td>HKG</td>\n",
       "      <td>0.00</td>\n",
       "      <td>0.0</td>\n",
       "      <td>0.0</td>\n",
       "      <td>0.0</td>\n",
       "      <td>0.0</td>\n",
       "      <td>0.0</td>\n",
       "      <td>0.000000</td>\n",
       "      <td>0.000000</td>\n",
       "      <td>1553.0</td>\n",
       "      <td>0.609259</td>\n",
       "      <td>167494.0</td>\n",
       "    </tr>\n",
       "    <tr>\n",
       "      <th>1556</th>\n",
       "      <td>CLEMOTChristopheFRAM52.0</td>\n",
       "      <td>52.0</td>\n",
       "      <td>M</td>\n",
       "      <td>FRA</td>\n",
       "      <td>771.50</td>\n",
       "      <td>503.1</td>\n",
       "      <td>3.0</td>\n",
       "      <td>1.0</td>\n",
       "      <td>1.0</td>\n",
       "      <td>1.0</td>\n",
       "      <td>1.500000</td>\n",
       "      <td>0.014862</td>\n",
       "      <td>1554.0</td>\n",
       "      <td>0.609651</td>\n",
       "      <td>167592.0</td>\n",
       "    </tr>\n",
       "    <tr>\n",
       "      <th>1557</th>\n",
       "      <td>LOPEZHIDALGORafaelESPM43.0</td>\n",
       "      <td>43.0</td>\n",
       "      <td>M</td>\n",
       "      <td>ESP</td>\n",
       "      <td>1074.28</td>\n",
       "      <td>0.0</td>\n",
       "      <td>4.0</td>\n",
       "      <td>1.0</td>\n",
       "      <td>0.0</td>\n",
       "      <td>1.0</td>\n",
       "      <td>1.000000</td>\n",
       "      <td>0.008425</td>\n",
       "      <td>1555.0</td>\n",
       "      <td>0.610043</td>\n",
       "      <td>167813.0</td>\n",
       "    </tr>\n",
       "    <tr>\n",
       "      <th>1558</th>\n",
       "      <td>KellerGuillaumeFRAM57.0</td>\n",
       "      <td>57.0</td>\n",
       "      <td>M</td>\n",
       "      <td>FRA</td>\n",
       "      <td>0.00</td>\n",
       "      <td>0.0</td>\n",
       "      <td>0.0</td>\n",
       "      <td>0.0</td>\n",
       "      <td>0.0</td>\n",
       "      <td>0.0</td>\n",
       "      <td>0.000000</td>\n",
       "      <td>0.000000</td>\n",
       "      <td>1556.0</td>\n",
       "      <td>0.610435</td>\n",
       "      <td>168930.0</td>\n",
       "    </tr>\n",
       "  </tbody>\n",
       "</table>\n",
       "<p>1559 rows × 15 columns</p>\n",
       "</div>"
      ],
      "text/plain": [
       "                       runner_id   age gender nationality  total_distance  \\\n",
       "0              CAPELLPauESPM30.0  30.0      M         ESP          741.80   \n",
       "1        THEVENARDXavierFRAM33.0  33.0      M         FRA         1579.93   \n",
       "2            HAWKERScottNZLM34.0  34.0      M         NZL          532.28   \n",
       "3               OWENSTomGBRM40.0  40.0      M         GBR            0.00   \n",
       "4            SYMONDSAndyGBRM40.0  40.0      M         GBR          268.40   \n",
       "...                          ...   ...    ...         ...             ...   \n",
       "1554       CHUILokNinJoeHKGM42.0  42.0      M         HKG          483.80   \n",
       "1555         TSEHonShingHKGM62.0  62.0      M         HKG            0.00   \n",
       "1556    CLEMOTChristopheFRAM52.0  52.0      M         FRA          771.50   \n",
       "1557  LOPEZHIDALGORafaelESPM43.0  43.0      M         ESP         1074.28   \n",
       "1558     KellerGuillaumeFRAM57.0  57.0      M         FRA            0.00   \n",
       "\n",
       "      distance_previous_year  total_races  has_run  has_run_last_year  \\\n",
       "0                      229.9          3.0      1.0                1.0   \n",
       "1                      512.0          6.0      1.0                1.0   \n",
       "2                        0.0          2.0      1.0                0.0   \n",
       "3                        0.0          0.0      0.0                0.0   \n",
       "4                        0.0          1.0      1.0                0.0   \n",
       "...                      ...          ...      ...                ...   \n",
       "1554                     0.0          2.0      1.0                0.0   \n",
       "1555                     0.0          0.0      0.0                0.0   \n",
       "1556                   503.1          3.0      1.0                1.0   \n",
       "1557                     0.0          4.0      1.0                0.0   \n",
       "1558                     0.0          0.0      0.0                0.0   \n",
       "\n",
       "      has_run_equivalent_course  avg_course_per_year  ranking_score  ranking  \\\n",
       "0                           1.0             1.500000       3.561264      1.0   \n",
       "1                           1.0             1.000000       8.068447      2.0   \n",
       "2                           1.0             0.666667       0.198562      3.0   \n",
       "3                           0.0             0.000000       0.000000      4.0   \n",
       "4                           1.0             0.000000       0.121619      5.0   \n",
       "...                         ...                  ...            ...      ...   \n",
       "1554                        0.0             2.000000       0.024805   1552.0   \n",
       "1555                        0.0             0.000000       0.000000   1553.0   \n",
       "1556                        1.0             1.500000       0.014862   1554.0   \n",
       "1557                        1.0             1.000000       0.008425   1555.0   \n",
       "1558                        0.0             0.000000       0.000000   1556.0   \n",
       "\n",
       "      relative_ranking  time_in_seconds  \n",
       "0             0.000392          73147.0  \n",
       "1             0.000785          76076.0  \n",
       "2             0.001177          78484.0  \n",
       "3             0.001569          79469.0  \n",
       "4             0.001962          81315.0  \n",
       "...                ...              ...  \n",
       "1554          0.608866         167493.0  \n",
       "1555          0.609259         167494.0  \n",
       "1556          0.609651         167592.0  \n",
       "1557          0.610043         167813.0  \n",
       "1558          0.610435         168930.0  \n",
       "\n",
       "[1559 rows x 15 columns]"
      ]
     },
     "execution_count": 208,
     "metadata": {},
     "output_type": "execute_result"
    }
   ],
   "source": [
    "runner_p"
   ]
  },
  {
   "cell_type": "code",
   "execution_count": 209,
   "id": "9a0defe7",
   "metadata": {},
   "outputs": [
    {
     "data": {
      "text/plain": [
       "<AxesSubplot:xlabel='axis1', ylabel='axis2'>"
      ]
     },
     "execution_count": 209,
     "metadata": {},
     "output_type": "execute_result"
    },
    {
     "data": {
      "image/png": "[encoded data removed]",
      "text/plain": [
       "<Figure size 842.4x595.44 with 1 Axes>"
      ]
     },
     "metadata": {},
     "output_type": "display_data"
    }
   ],
   "source": [
    "import matplotlib.pyplot as plt\n",
    "from sklearn.decomposition import PCA\n",
    "\n",
    "df = runner_p[['age','total_distance','distance_previous_year','total_races','has_run','has_run_last_year','has_run_equivalent_course','avg_course_per_year','ranking_score']]\n",
    "cls = PCA(n_components=5)\n",
    "pcs = cls.fit_transform(df)\n",
    "\n",
    "X = pd.DataFrame(pcs, columns=[\"axis1\", \"axis2\",\"axis3\",\"axis4\",\"axis5\"])\n",
    "X.index = df.index\n",
    "X = pd.concat([X, join_test.gender, join_test.ranking, join_test.relative_ranking], axis=1)\n",
    "\n",
    "\n",
    "sns.scatterplot(x = \"axis1\", y = \"axis2\",hue = 'ranking' ,data = X)"
   ]
  },
  {
   "cell_type": "code",
   "execution_count": 211,
   "id": "b22017ea",
   "metadata": {},
   "outputs": [
    {
     "name": "stderr",
     "output_type": "stream",
     "text": [
      "100%|███████████████████████████████████████| 1557/1557 [00:21<00:00, 71.05it/s]\n"
     ]
    }
   ],
   "source": [
    "runner_p = runner_profile(join,race, 39881)"
   ]
  },
  {
   "cell_type": "markdown",
   "id": "98076616",
   "metadata": {},
   "source": [
    "# Test d'apprentissage KPPV"
   ]
  },
  {
   "cell_type": "code",
   "execution_count": 235,
   "id": "75e91e09",
   "metadata": {},
   "outputs": [],
   "source": [
    "import numpy as np\n",
    "import matplotlib.pyplot as plt\n",
    "import pandas as pd\n",
    "import seaborn as sns\n",
    "import numpy.linalg as linalg\n",
    "from sklearn.decomposition import PCA\n",
    "from sklearn.preprocessing import StandardScaler\n",
    "import scipy.linalg as linalg\n",
    "from sklearn.cluster import AgglomerativeClustering\n",
    "from sklearn.manifold import MDS\n",
    "from scipy.cluster.hierarchy import dendrogram\n",
    "import math\n",
    "from sklearn.cluster import KMeans\n",
    "from sklearn.neighbors import KNeighborsClassifier"
   ]
  },
  {
   "cell_type": "code",
   "execution_count": 228,
   "id": "6aee8802",
   "metadata": {},
   "outputs": [],
   "source": [
    "Z = runner_p[['runner_id','ranking','relative_ranking','time_in_seconds']]\n",
    "X = runner_p.drop(columns=['runner_id','ranking','relative_ranking','time_in_seconds'])"
   ]
  },
  {
   "cell_type": "code",
   "execution_count": 229,
   "id": "719af61e",
   "metadata": {},
   "outputs": [],
   "source": [
    "time_mean = Z.time_in_seconds.median() \n",
    "Z = Z.assign(\n",
    "    flag = Z.time_in_seconds > time_mean\n",
    ")"
   ]
  },
  {
   "cell_type": "code",
   "execution_count": 251,
   "id": "065580ce",
   "metadata": {
    "scrolled": false
   },
   "outputs": [],
   "source": [
    "X = X.drop(columns=['gender','nationality'])"
   ]
  },
  {
   "cell_type": "code",
   "execution_count": 247,
   "id": "e68e5ff5",
   "metadata": {},
   "outputs": [],
   "source": [
    "y = Z['flag'].astype(int)"
   ]
  },
  {
   "cell_type": "code",
   "execution_count": 264,
   "id": "7d91cae3",
   "metadata": {},
   "outputs": [],
   "source": [
    "from sklearn.model_selection import GridSearchCV\n",
    "param_grid ={\n",
    "    'n_neighbors' : [a for a in range(2,200)]\n",
    "}\n",
    "estimator = KNeighborsClassifier()"
   ]
  },
  {
   "cell_type": "code",
   "execution_count": 254,
   "id": "81348ce0",
   "metadata": {},
   "outputs": [],
   "source": [
    "clf = GridSearchCV(estimator, param_grid)\n",
    "res_GS = clf.fit(X,y)"
   ]
  },
  {
   "cell_type": "code",
   "execution_count": 255,
   "id": "6a86003f",
   "metadata": {},
   "outputs": [
    {
     "data": {
      "text/plain": [
       "{'n_neighbors': 100}"
      ]
     },
     "execution_count": 255,
     "metadata": {},
     "output_type": "execute_result"
    }
   ],
   "source": [
    "res_GS.best_params_"
   ]
  },
  {
   "cell_type": "code",
   "execution_count": 256,
   "id": "78e13514",
   "metadata": {},
   "outputs": [
    {
     "data": {
      "text/plain": [
       "<AxesSubplot:xlabel='param_n_neighbors', ylabel='mean_test_score'>"
      ]
     },
     "execution_count": 256,
     "metadata": {},
     "output_type": "execute_result"
    },
    {
     "data": {
      "image/png": "[encoded data removed]",
      "text/plain": [
       "<Figure size 842.4x595.44 with 1 Axes>"
      ]
     },
     "metadata": {},
     "output_type": "display_data"
    }
   ],
   "source": [
    "sns.lineplot(\n",
    "    x ='param_n_neighbors', \n",
    "    y = 'mean_test_score', \n",
    "    data = res_GS.cv_results_\n",
    ")"
   ]
  },
  {
   "cell_type": "code",
   "execution_count": 261,
   "id": "2d27b1bd",
   "metadata": {},
   "outputs": [],
   "source": [
    "cls = KNeighborsClassifier(n_neighbors=100)\n",
    "cls.fit(X,y)\n",
    "labels = cls.predict(X)"
   ]
  },
  {
   "cell_type": "code",
   "execution_count": 262,
   "id": "a171add9",
   "metadata": {},
   "outputs": [],
   "source": [
    "from sklearn.metrics import accuracy_score\n"
   ]
  },
  {
   "cell_type": "code",
   "execution_count": 263,
   "id": "e6a4d51e",
   "metadata": {},
   "outputs": [
    {
     "data": {
      "text/plain": [
       "0.581783194355356"
      ]
     },
     "execution_count": 263,
     "metadata": {},
     "output_type": "execute_result"
    }
   ],
   "source": [
    "accuracy_score(y, labels)"
   ]
  },
  {
   "cell_type": "code",
   "execution_count": null,
   "id": "8b2377ba",
   "metadata": {},
   "outputs": [],
   "source": []
  }
 ],
 "metadata": {
  "kernelspec": {
   "display_name": "Python 3 (ipykernel)",
   "language": "python",
   "name": "python3"
  },
  "language_info": {
   "codemirror_mode": {
    "name": "ipython",
    "version": 3
   },
   "file_extension": ".py",
   "mimetype": "text/x-python",
   "name": "python",
   "nbconvert_exporter": "python",
   "pygments_lexer": "ipython3",
   "version": "3.9.7"
  }
 },
 "nbformat": 4,
 "nbformat_minor": 5
}
