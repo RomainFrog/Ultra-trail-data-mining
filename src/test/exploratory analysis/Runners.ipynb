{
 "cells": [
  {
   "cell_type": "code",
   "execution_count": 11,
   "id": "d3157d10",
   "metadata": {},
   "outputs": [],
   "source": [
    "import pandas as pd\n",
    "import numpy as np\n",
    "import seaborn as sns\n",
    "from sklearn.cluster import KMeans\n",
    "from sklearn.decomposition import PCA\n",
    "from sklearn.base import ClusterMixin\n",
    "from sklearn.base import BaseEstimator\n",
    "sns.set(rc={'figure.figsize':(11.7,8.27)})\n",
    "from random import *\n",
    "import matplotlib.pyplot as plt\n",
    "from scipy.cluster.hierarchy import dendrogram\n",
    "from sklearn.manifold import MDS\n",
    "from scipy.spatial.distance import cdist"
   ]
  },
  {
   "cell_type": "code",
   "execution_count": 12,
   "id": "2e9a464c",
   "metadata": {},
   "outputs": [
    {
     "name": "stdout",
     "output_type": "stream",
     "text": [
      "<class 'pandas.core.frame.DataFrame'>\n",
      "Int64Index: 130137 entries, 0 to 137802\n",
      "Data columns (total 13 columns):\n",
      " #   Column            Non-Null Count   Dtype   \n",
      "---  ------            --------------   -----   \n",
      " 0   race_year_id      130137 non-null  int64   \n",
      " 1   ranking           113523 non-null  float64 \n",
      " 2   runner            130137 non-null  object  \n",
      " 3   time              113523 non-null  object  \n",
      " 4   age               128764 non-null  float64 \n",
      " 5   gender            130108 non-null  object  \n",
      " 6   nationality       130137 non-null  object  \n",
      " 7   time_in_seconds   113523 non-null  float64 \n",
      " 8   runner_id         130108 non-null  object  \n",
      " 9   age_course        128764 non-null  float64 \n",
      " 10  age_range         130137 non-null  category\n",
      " 11  speed             113523 non-null  float64 \n",
      " 12  equivalent_speed  113523 non-null  float64 \n",
      "dtypes: category(1), float64(6), int64(1), object(5)\n",
      "memory usage: 13.0+ MB\n"
     ]
    }
   ],
   "source": [
    "runner = pd.read_csv(\"../../../output/data_clean/cleaned_runner.csv\", index_col=0)\n",
    "race = pd.read_csv(\"../../../output/data_clean/cleaned_race_2.csv\", index_col= 0)\n",
    "runner.age_range = pd.Categorical(\n",
    "    runner.age_range, categories=['16-25','26-40','40-60','61+','Undefined'],ordered=True\n",
    ")\n",
    "runner.info()"
   ]
  },
  {
   "cell_type": "code",
   "execution_count": 13,
   "id": "0b2c499b",
   "metadata": {},
   "outputs": [],
   "source": [
    "one_hot_gender = pd.get_dummies(runner['gender'], prefix = \"gender\")\n",
    "runner = runner.drop('gender',axis = 1)\n",
    "runner = runner.join(one_hot_gender)\n",
    "runner = runner.dropna()"
   ]
  },
  {
   "cell_type": "code",
   "execution_count": 14,
   "id": "78020445",
   "metadata": {},
   "outputs": [],
   "source": [
    "join = pd.merge(runner, race, left_on=\"race_year_id\", right_on=\"race_year_id\", how=\"left\")\n",
    "join = join.loc[join.speed < 20]\n",
    "join = join.loc[join.distance > 150]"
   ]
  },
  {
   "cell_type": "code",
   "execution_count": 15,
   "id": "76970ead",
   "metadata": {},
   "outputs": [],
   "source": [
    "runner.ranking = join.ranking / join.frequency_in_ranking *100"
   ]
  },
  {
   "cell_type": "code",
   "execution_count": 16,
   "id": "77d21377",
   "metadata": {},
   "outputs": [
    {
     "name": "stdout",
     "output_type": "stream",
     "text": [
      "<class 'pandas.core.frame.DataFrame'>\n",
      "Int64Index: 112186 entries, 0 to 137802\n",
      "Data columns (total 14 columns):\n",
      " #   Column            Non-Null Count   Dtype   \n",
      "---  ------            --------------   -----   \n",
      " 0   race_year_id      112186 non-null  int64   \n",
      " 1   ranking           87857 non-null   float64 \n",
      " 2   runner            112186 non-null  object  \n",
      " 3   time              112186 non-null  object  \n",
      " 4   age               112186 non-null  float64 \n",
      " 5   nationality       112186 non-null  object  \n",
      " 6   time_in_seconds   112186 non-null  float64 \n",
      " 7   runner_id         112186 non-null  object  \n",
      " 8   age_course        112186 non-null  float64 \n",
      " 9   age_range         112186 non-null  category\n",
      " 10  speed             112186 non-null  float64 \n",
      " 11  equivalent_speed  112186 non-null  float64 \n",
      " 12  gender_M          112186 non-null  uint8   \n",
      " 13  gender_W          112186 non-null  uint8   \n",
      "dtypes: category(1), float64(6), int64(1), object(4), uint8(2)\n",
      "memory usage: 10.6+ MB\n"
     ]
    }
   ],
   "source": [
    "runner.info()"
   ]
  },
  {
   "cell_type": "code",
   "execution_count": 17,
   "id": "cc3eff99",
   "metadata": {},
   "outputs": [],
   "source": [
    "def get_new_runners_per_year(df):\n",
    "    years = df.year.unique().tolist()[::-1][1:]\n",
    "    new_runners = []\n",
    "    \n",
    "    for year in years:\n",
    "        search_df = df.loc[df.year < year]\n",
    "        current_year_df = df.loc[df.year == year]\n",
    "        unique_runners = current_year_df.runner_id.unique()\n",
    "        new_year_runner = 0\n",
    "        \n",
    "        for runner in unique_runners:\n",
    "            print(runner)\n",
    "            if search_df.loc[search_df.runner_id == runner]:\n",
    "                new_year_runner += 1\n",
    "        new_runners.append(new_year_runner)\n",
    "            \n",
    "    return years"
   ]
  },
  {
   "cell_type": "code",
   "execution_count": 18,
   "id": "faea81c2",
   "metadata": {},
   "outputs": [
    {
     "name": "stdout",
     "output_type": "stream",
     "text": [
      "CATMUREdwardGBRM39.0\n"
     ]
    },
    {
     "ename": "ValueError",
     "evalue": "The truth value of a DataFrame is ambiguous. Use a.empty, a.bool(), a.item(), a.any() or a.all().",
     "output_type": "error",
     "traceback": [
      "\u001b[0;31m---------------------------------------------------------------------------\u001b[0m",
      "\u001b[0;31mValueError\u001b[0m                                Traceback (most recent call last)",
      "\u001b[0;32m/tmp/ipykernel_2795/3020793837.py\u001b[0m in \u001b[0;36m<module>\u001b[0;34m\u001b[0m\n\u001b[0;32m----> 1\u001b[0;31m \u001b[0mget_new_runners_per_year\u001b[0m\u001b[0;34m(\u001b[0m\u001b[0mjoin\u001b[0m\u001b[0;34m)\u001b[0m\u001b[0;34m\u001b[0m\u001b[0;34m\u001b[0m\u001b[0m\n\u001b[0m",
      "\u001b[0;32m/tmp/ipykernel_2795/2108167394.py\u001b[0m in \u001b[0;36mget_new_runners_per_year\u001b[0;34m(df)\u001b[0m\n\u001b[1;32m     11\u001b[0m         \u001b[0;32mfor\u001b[0m \u001b[0mrunner\u001b[0m \u001b[0;32min\u001b[0m \u001b[0munique_runners\u001b[0m\u001b[0;34m:\u001b[0m\u001b[0;34m\u001b[0m\u001b[0;34m\u001b[0m\u001b[0m\n\u001b[1;32m     12\u001b[0m             \u001b[0mprint\u001b[0m\u001b[0;34m(\u001b[0m\u001b[0mrunner\u001b[0m\u001b[0;34m)\u001b[0m\u001b[0;34m\u001b[0m\u001b[0;34m\u001b[0m\u001b[0m\n\u001b[0;32m---> 13\u001b[0;31m             \u001b[0;32mif\u001b[0m \u001b[0msearch_df\u001b[0m\u001b[0;34m.\u001b[0m\u001b[0mloc\u001b[0m\u001b[0;34m[\u001b[0m\u001b[0msearch_df\u001b[0m\u001b[0;34m.\u001b[0m\u001b[0mrunner_id\u001b[0m \u001b[0;34m==\u001b[0m \u001b[0mrunner\u001b[0m\u001b[0;34m]\u001b[0m\u001b[0;34m:\u001b[0m\u001b[0;34m\u001b[0m\u001b[0;34m\u001b[0m\u001b[0m\n\u001b[0m\u001b[1;32m     14\u001b[0m                 \u001b[0mnew_year_runner\u001b[0m \u001b[0;34m+=\u001b[0m \u001b[0;36m1\u001b[0m\u001b[0;34m\u001b[0m\u001b[0;34m\u001b[0m\u001b[0m\n\u001b[1;32m     15\u001b[0m         \u001b[0mnew_runners\u001b[0m\u001b[0;34m.\u001b[0m\u001b[0mappend\u001b[0m\u001b[0;34m(\u001b[0m\u001b[0mnew_year_runner\u001b[0m\u001b[0;34m)\u001b[0m\u001b[0;34m\u001b[0m\u001b[0;34m\u001b[0m\u001b[0m\n",
      "\u001b[0;32m~/anaconda3/lib/python3.9/site-packages/pandas/core/generic.py\u001b[0m in \u001b[0;36m__nonzero__\u001b[0;34m(self)\u001b[0m\n\u001b[1;32m   1535\u001b[0m     \u001b[0;34m@\u001b[0m\u001b[0mfinal\u001b[0m\u001b[0;34m\u001b[0m\u001b[0;34m\u001b[0m\u001b[0m\n\u001b[1;32m   1536\u001b[0m     \u001b[0;32mdef\u001b[0m \u001b[0m__nonzero__\u001b[0m\u001b[0;34m(\u001b[0m\u001b[0mself\u001b[0m\u001b[0;34m)\u001b[0m\u001b[0;34m:\u001b[0m\u001b[0;34m\u001b[0m\u001b[0;34m\u001b[0m\u001b[0m\n\u001b[0;32m-> 1537\u001b[0;31m         raise ValueError(\n\u001b[0m\u001b[1;32m   1538\u001b[0m             \u001b[0;34mf\"The truth value of a {type(self).__name__} is ambiguous. \"\u001b[0m\u001b[0;34m\u001b[0m\u001b[0;34m\u001b[0m\u001b[0m\n\u001b[1;32m   1539\u001b[0m             \u001b[0;34m\"Use a.empty, a.bool(), a.item(), a.any() or a.all().\"\u001b[0m\u001b[0;34m\u001b[0m\u001b[0;34m\u001b[0m\u001b[0m\n",
      "\u001b[0;31mValueError\u001b[0m: The truth value of a DataFrame is ambiguous. Use a.empty, a.bool(), a.item(), a.any() or a.all()."
     ]
    }
   ],
   "source": [
    "get_new_runners_per_year(join)"
   ]
  },
  {
   "cell_type": "code",
   "execution_count": null,
   "id": "295d56fd",
   "metadata": {},
   "outputs": [],
   "source": []
  }
 ],
 "metadata": {
  "kernelspec": {
   "display_name": "Python 3 (ipykernel)",
   "language": "python",
   "name": "python3"
  },
  "language_info": {
   "codemirror_mode": {
    "name": "ipython",
    "version": 3
   },
   "file_extension": ".py",
   "mimetype": "text/x-python",
   "name": "python",
   "nbconvert_exporter": "python",
   "pygments_lexer": "ipython3",
   "version": "3.9.7"
  }
 },
 "nbformat": 4,
 "nbformat_minor": 5
}
