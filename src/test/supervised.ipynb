{
 "cells": [
  {
   "cell_type": "code",
   "execution_count": 1,
   "id": "10844acd",
   "metadata": {},
   "outputs": [],
   "source": [
    "import pandas as pd\n",
    "import numpy as np\n",
    "import seaborn as sns\n",
    "import matplotlib.pyplot as plt\n",
    "from tqdm import tqdm\n",
    "from sklearn.ensemble import RandomForestClassifier\n",
    "import random"
   ]
  },
  {
   "cell_type": "code",
   "execution_count": 2,
   "id": "c01ac98c",
   "metadata": {},
   "outputs": [],
   "source": [
    "runner = pd.read_csv(\"../../output/data_clean/cleaned_runner.csv\", index_col=0)\n",
    "race = pd.read_csv(\"../../output/data_clean/cleaned_race_equivalent_distance.csv\", index_col= 0)\n",
    "runner.age_range = pd.Categorical(\n",
    "    runner.age_range, categories=['16-25','26-40','40-60','61+','Undefined'],ordered=True\n",
    ")\n",
    "runner.gender = pd.Categorical(\n",
    "    runner.gender, categories=['M','W'],ordered=False\n",
    ")\n",
    "runner.nationality = pd.Categorical(\n",
    "    runner.nationality, categories=runner.nationality.unique(),ordered=False\n",
    ")\n",
    "race.event = pd.Categorical(\n",
    "    race.event, categories=race.event.unique(), ordered=False\n",
    ")\n",
    "race.country_code = pd.Categorical(\n",
    "    race.country_code, categories=race.country_code.unique(), ordered=False\n",
    ")\n",
    "race.participation = pd.Categorical(\n",
    "    race.participation, categories=race.participation.unique(), ordered=False\n",
    ")\n",
    "#runner = runner.dropna()\n",
    "race = race.assign(\n",
    "    date = pd.to_datetime(race[['month', 'day', 'year']])\n",
    ")\n",
    "join = pd.merge(runner, race, left_on=\"race_year_id\", right_on=\"race_year_id\", how=\"left\")\n",
    "join = join.loc[join.age_range != \"Undefined\"]\n",
    "join = join.assign(\n",
    "    relative_ranking = join.ranking / join.frequency_in_ranking\n",
    ")\n",
    "join.race_year_id = pd.Categorical(\n",
    "    join.race_year_id, categories=join.race_year_id.unique(), ordered=False\n",
    ")\n",
    "join.runner = pd.Categorical(\n",
    "    join.runner, categories=join.runner.unique(), ordered=False\n",
    ")"
   ]
  },
  {
   "cell_type": "code",
   "execution_count": 3,
   "id": "64d5dbc0",
   "metadata": {
    "scrolled": true
   },
   "outputs": [],
   "source": [
    "join = join.assign(\n",
    "    age_range_cat = join.age_range.cat.codes,\n",
    "    country_cat = join.country_code.cat.codes,\n",
    "    gender_cat = join.gender.cat.codes,\n",
    "    nationality_cat = join.nationality.cat.codes,\n",
    "    event_cat = join.event.cat.codes,\n",
    "    country_code_cat = join.country_code.cat.codes,\n",
    "    participation_cat = join.participation.cat.codes,\n",
    "    race_year_id_cat = join.race_year_id.cat.codes,\n",
    "    runner_cat = join.runner.cat.codes,\n",
    "    finished = join.time_in_seconds.isna()\n",
    ")\n",
    "join = join.drop(columns=['ranking',\n",
    "                          'time', \n",
    "                          'time_in_seconds', \n",
    "                          'speed',\n",
    "                          'equivalent_speed',\n",
    "                          'relative_ranking',\n",
    "                          'runner',\n",
    "                          'race',\n",
    "                          'country', \n",
    "                          'gender',\n",
    "                          'nationality',\n",
    "                          'event',\n",
    "                          'country_code',\n",
    "                          'participation',\n",
    "                          'race_year_id',\n",
    "                          'runner_id',\n",
    "                          'age_range',\n",
    "                          'date',\n",
    "                          'age_range_cat',\n",
    "                          'runner_cat',\n",
    "                          'age'])"
   ]
  },
  {
   "cell_type": "code",
   "execution_count": 4,
   "id": "9dc75b10",
   "metadata": {},
   "outputs": [
    {
     "name": "stdout",
     "output_type": "stream",
     "text": [
      "<class 'pandas.core.frame.DataFrame'>\n",
      "Int64Index: 128749 entries, 0 to 130136\n",
      "Data columns (total 20 columns):\n",
      " #   Column                Non-Null Count   Dtype  \n",
      "---  ------                --------------   -----  \n",
      " 0   age_course            128749 non-null  float64\n",
      " 1   distance              128749 non-null  float64\n",
      " 2   elevation_gain        128749 non-null  float64\n",
      " 3   elevation_loss        128749 non-null  float64\n",
      " 4   aid_stations          128749 non-null  int64  \n",
      " 5   participants          128749 non-null  int64  \n",
      " 6   year                  128749 non-null  int64  \n",
      " 7   month                 128749 non-null  int64  \n",
      " 8   day                   128749 non-null  int64  \n",
      " 9   frequency_in_ranking  128749 non-null  int64  \n",
      " 10  equivalent_distance   128749 non-null  float64\n",
      " 11  weighted_elevation    128749 non-null  float64\n",
      " 12  country_cat           128749 non-null  int8   \n",
      " 13  gender_cat            128749 non-null  int8   \n",
      " 14  nationality_cat       128749 non-null  int16  \n",
      " 15  event_cat             128749 non-null  int16  \n",
      " 16  country_code_cat      128749 non-null  int8   \n",
      " 17  participation_cat     128749 non-null  int8   \n",
      " 18  race_year_id_cat      128749 non-null  int16  \n",
      " 19  finished              128749 non-null  bool   \n",
      "dtypes: bool(1), float64(6), int16(3), int64(6), int8(4)\n",
      "memory usage: 14.1 MB\n"
     ]
    }
   ],
   "source": [
    "join.info()"
   ]
  },
  {
   "cell_type": "code",
   "execution_count": 5,
   "id": "69e03bd9",
   "metadata": {},
   "outputs": [],
   "source": [
    "X = join.iloc[:, :-1]\n",
    "y = join.iloc[:, -1]"
   ]
  },
  {
   "cell_type": "code",
   "execution_count": 8,
   "id": "88d83b19",
   "metadata": {},
   "outputs": [
    {
     "data": {
      "text/plain": [
       "<AxesSubplot:>"
      ]
     },
     "execution_count": 8,
     "metadata": {},
     "output_type": "execute_result"
    },
    {
     "data": {
      "image/png": "[encoded data removed]",
      "text/plain": [
       "<Figure size 432x288 with 1 Axes>"
      ]
     },
     "metadata": {
      "needs_background": "light"
     },
     "output_type": "display_data"
    }
   ],
   "source": [
    "random.seed(149)\n",
    "cls = RandomForestClassifier()\n",
    "cls.fit(X, y)\n",
    "importance = cls.feature_importances_\n",
    "features = [\"age_course\",\n",
    "            \"distance\",\n",
    "            \"elevation_gain\",\n",
    "            \"elevation_loss\",\n",
    "            \"aid_stations\",\n",
    "            \"participants\",\n",
    "            \"year\",\n",
    "            \"month\",\n",
    "            \"day\",\n",
    "            \"frequency_in_ranking\",\n",
    "            \"equivalent_distance\",\n",
    "            \"weighted_elevation\",\n",
    "            \"country_cat\",\n",
    "            \"gender_cat\",\n",
    "            \"nationality_cat\",\n",
    "            \"event_cat\",\n",
    "            \"country_code_cat\",\n",
    "            \"participation_cat\",\n",
    "            \"race_year_id_cat\"]\n",
    "df_importance = pd.DataFrame({'features':features,'importance':importance})\n",
    "df_importance = df_importance.sort_values(by = ['importance'], ascending = False)\n",
    "sns.barplot(x = importance, y = features, data = df_importance)"
   ]
  },
  {
   "cell_type": "code",
   "execution_count": null,
   "id": "03f9a9ba",
   "metadata": {},
   "outputs": [],
   "source": []
  }
 ],
 "metadata": {
  "kernelspec": {
   "display_name": "Python 3 (ipykernel)",
   "language": "python",
   "name": "python3"
  },
  "language_info": {
   "codemirror_mode": {
    "name": "ipython",
    "version": 3
   },
   "file_extension": ".py",
   "mimetype": "text/x-python",
   "name": "python",
   "nbconvert_exporter": "python",
   "pygments_lexer": "ipython3",
   "version": "3.9.7"
  }
 },
 "nbformat": 4,
 "nbformat_minor": 5
}
