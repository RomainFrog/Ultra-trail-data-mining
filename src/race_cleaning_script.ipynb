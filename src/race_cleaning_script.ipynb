{
 "cells": [
  {
   "cell_type": "markdown",
   "id": "397a8ca8",
   "metadata": {},
   "source": [
    "# Cleaning Script for races.csv"
   ]
  },
  {
   "cell_type": "code",
   "execution_count": 13,
   "id": "4f56cfdd",
   "metadata": {},
   "outputs": [],
   "source": [
    "import pandas as pd\n",
    "import numpy as np\n",
    "import matplotlib as plt\n",
    "import seaborn as sns"
   ]
  },
  {
   "cell_type": "code",
   "execution_count": 23,
   "id": "65f621c4",
   "metadata": {
    "scrolled": true
   },
   "outputs": [
    {
     "name": "stdout",
     "output_type": "stream",
     "text": [
      "<class 'pandas.core.frame.DataFrame'>\n",
      "RangeIndex: 1207 entries, 0 to 1206\n",
      "Data columns (total 13 columns):\n",
      " #   Column          Non-Null Count  Dtype  \n",
      "---  ------          --------------  -----  \n",
      " 0   race_year_id    1207 non-null   int64  \n",
      " 1   event           1207 non-null   object \n",
      " 2   race            1207 non-null   object \n",
      " 3   city            1035 non-null   object \n",
      " 4   country         1203 non-null   object \n",
      " 5   date            1207 non-null   object \n",
      " 6   start_time      1207 non-null   object \n",
      " 7   participation   1207 non-null   object \n",
      " 8   distance        1207 non-null   float64\n",
      " 9   elevation_gain  1207 non-null   int64  \n",
      " 10  elevation_loss  1207 non-null   int64  \n",
      " 11  aid_stations    1207 non-null   int64  \n",
      " 12  participants    1207 non-null   int64  \n",
      "dtypes: float64(1), int64(5), object(7)\n",
      "memory usage: 122.7+ KB\n"
     ]
    }
   ],
   "source": [
    "X = pd.read_csv(\"../data/race.csv\")\n",
    "X.info()\n"
   ]
  },
  {
   "cell_type": "markdown",
   "id": "c83b1255",
   "metadata": {},
   "source": [
    "- race_year_id ✅\n",
    "- event ✅\n",
    "- race ✅\n",
    "- city ✅\n",
    "- country ✅\n",
    "- date ✅\n",
    "- country ✅\n",
    "- start_time ✅"
   ]
  },
  {
   "cell_type": "markdown",
   "id": "8568483c",
   "metadata": {},
   "source": [
    "### Cleaning participation typo\n",
    "'Solo' and 'solo' both in the participation field. Transformed 'Solo' to 'solo'."
   ]
  },
  {
   "cell_type": "code",
   "execution_count": 15,
   "id": "5fdef94f",
   "metadata": {},
   "outputs": [
    {
     "data": {
      "text/plain": [
       "array(['solo', 'team', 'relay'], dtype=object)"
      ]
     },
     "execution_count": 15,
     "metadata": {},
     "output_type": "execute_result"
    }
   ],
   "source": [
    "mask = X.participation == \"Solo\"\n",
    "X.loc[mask, \"participation\"] = \"solo\"\n",
    "X.participation.unique()"
   ]
  },
  {
   "cell_type": "markdown",
   "id": "02e7c4e7",
   "metadata": {},
   "source": [
    "### Cleaning city typo\n",
    "One city called '???' renamed to 'nan'."
   ]
  },
  {
   "cell_type": "code",
   "execution_count": 16,
   "id": "2ced3ed9",
   "metadata": {},
   "outputs": [],
   "source": [
    "X[X.city == '???'] = np.nan"
   ]
  },
  {
   "cell_type": "markdown",
   "id": "d7033876",
   "metadata": {},
   "source": [
    "### Cleaning atypical distance values\n",
    "\n",
    "In the dataset several distance variables were null (74 to be exact). In most cases, the positive and negative slope values were also zero. Most of our explorations and applications will focus on these quantitative variables. We therefore eliminate them from the dataset."
   ]
  },
  {
   "cell_type": "code",
   "execution_count": 17,
   "id": "de975d8d",
   "metadata": {
    "scrolled": true
   },
   "outputs": [
    {
     "name": "stdout",
     "output_type": "stream",
     "text": [
      "<class 'pandas.core.frame.DataFrame'>\n",
      "RangeIndex: 1207 entries, 0 to 1206\n",
      "Data columns (total 13 columns):\n",
      " #   Column          Non-Null Count  Dtype  \n",
      "---  ------          --------------  -----  \n",
      " 0   race_year_id    1130 non-null   float64\n",
      " 1   event           1130 non-null   object \n",
      " 2   race            1130 non-null   object \n",
      " 3   city            981 non-null    object \n",
      " 4   country         1126 non-null   object \n",
      " 5   date            1130 non-null   object \n",
      " 6   start_time      1130 non-null   object \n",
      " 7   participation   1130 non-null   object \n",
      " 8   distance        1130 non-null   float64\n",
      " 9   elevation_gain  1130 non-null   float64\n",
      " 10  elevation_loss  1130 non-null   float64\n",
      " 11  aid_stations    1130 non-null   float64\n",
      " 12  participants    1130 non-null   float64\n",
      "dtypes: float64(6), object(7)\n",
      "memory usage: 122.7+ KB\n"
     ]
    }
   ],
   "source": [
    "X[X.distance == 0] = np.nan\n",
    "X.info()"
   ]
  },
  {
   "cell_type": "markdown",
   "id": "671fccb3",
   "metadata": {},
   "source": [
    "<u>note:</u> the data set becomes narrower but very relatively."
   ]
  },
  {
   "cell_type": "markdown",
   "id": "8b143e7e",
   "metadata": {},
   "source": [
    "#### What about \"short\" distances?\n",
    "\n",
    "We quickly notice that some races have atypically short distances. In the case of our study, it could be useful to treat them separately in order to compare more general results found on \"normal\" individuals.<br>\n",
    "Only 7 races are less than 150km, eventhough the definition says we talk about \"ultra trails\" when it's longer than a marathon (42 km)."
   ]
  },
  {
   "cell_type": "code",
   "execution_count": 18,
   "id": "95585462",
   "metadata": {},
   "outputs": [
    {
     "data": {
      "text/html": [
       "<div>\n",
       "<style scoped>\n",
       "    .dataframe tbody tr th:only-of-type {\n",
       "        vertical-align: middle;\n",
       "    }\n",
       "\n",
       "    .dataframe tbody tr th {\n",
       "        vertical-align: top;\n",
       "    }\n",
       "\n",
       "    .dataframe thead th {\n",
       "        text-align: right;\n",
       "    }\n",
       "</style>\n",
       "<table border=\"1\" class=\"dataframe\">\n",
       "  <thead>\n",
       "    <tr style=\"text-align: right;\">\n",
       "      <th></th>\n",
       "      <th>race_year_id</th>\n",
       "      <th>event</th>\n",
       "      <th>race</th>\n",
       "      <th>city</th>\n",
       "      <th>country</th>\n",
       "      <th>date</th>\n",
       "      <th>start_time</th>\n",
       "      <th>participation</th>\n",
       "      <th>distance</th>\n",
       "      <th>elevation_gain</th>\n",
       "      <th>elevation_loss</th>\n",
       "      <th>aid_stations</th>\n",
       "      <th>participants</th>\n",
       "    </tr>\n",
       "  </thead>\n",
       "  <tbody>\n",
       "    <tr>\n",
       "      <th>0</th>\n",
       "      <td>68140.0</td>\n",
       "      <td>Peak District Ultras</td>\n",
       "      <td>Millstone 100</td>\n",
       "      <td>Castleton</td>\n",
       "      <td>United Kingdom</td>\n",
       "      <td>2021-09-03</td>\n",
       "      <td>19:00:00</td>\n",
       "      <td>solo</td>\n",
       "      <td>166.9</td>\n",
       "      <td>4520.0</td>\n",
       "      <td>-4520.0</td>\n",
       "      <td>10.0</td>\n",
       "      <td>150.0</td>\n",
       "    </tr>\n",
       "    <tr>\n",
       "      <th>1</th>\n",
       "      <td>72496.0</td>\n",
       "      <td>UTMB®</td>\n",
       "      <td>UTMB®</td>\n",
       "      <td>Chamonix</td>\n",
       "      <td>France</td>\n",
       "      <td>2021-08-27</td>\n",
       "      <td>17:00:00</td>\n",
       "      <td>solo</td>\n",
       "      <td>170.7</td>\n",
       "      <td>9930.0</td>\n",
       "      <td>-9930.0</td>\n",
       "      <td>11.0</td>\n",
       "      <td>2300.0</td>\n",
       "    </tr>\n",
       "    <tr>\n",
       "      <th>2</th>\n",
       "      <td>69855.0</td>\n",
       "      <td>Grand Raid des Pyrénées</td>\n",
       "      <td>Ultra Tour 160</td>\n",
       "      <td>vielle-Aure</td>\n",
       "      <td>France</td>\n",
       "      <td>2021-08-20</td>\n",
       "      <td>05:00:00</td>\n",
       "      <td>solo</td>\n",
       "      <td>167.0</td>\n",
       "      <td>9980.0</td>\n",
       "      <td>-9980.0</td>\n",
       "      <td>13.0</td>\n",
       "      <td>600.0</td>\n",
       "    </tr>\n",
       "    <tr>\n",
       "      <th>3</th>\n",
       "      <td>67856.0</td>\n",
       "      <td>Persenk Ultra</td>\n",
       "      <td>PERSENK ULTRA</td>\n",
       "      <td>Asenovgrad</td>\n",
       "      <td>Bulgaria</td>\n",
       "      <td>2021-08-20</td>\n",
       "      <td>18:00:00</td>\n",
       "      <td>solo</td>\n",
       "      <td>164.0</td>\n",
       "      <td>7490.0</td>\n",
       "      <td>-7500.0</td>\n",
       "      <td>13.0</td>\n",
       "      <td>150.0</td>\n",
       "    </tr>\n",
       "    <tr>\n",
       "      <th>4</th>\n",
       "      <td>70469.0</td>\n",
       "      <td>Runfire Salt Lake Ultra</td>\n",
       "      <td>100 Mile</td>\n",
       "      <td>ulukisla</td>\n",
       "      <td>Turkey</td>\n",
       "      <td>2021-08-20</td>\n",
       "      <td>18:00:00</td>\n",
       "      <td>solo</td>\n",
       "      <td>159.9</td>\n",
       "      <td>100.0</td>\n",
       "      <td>-100.0</td>\n",
       "      <td>12.0</td>\n",
       "      <td>0.0</td>\n",
       "    </tr>\n",
       "    <tr>\n",
       "      <th>...</th>\n",
       "      <td>...</td>\n",
       "      <td>...</td>\n",
       "      <td>...</td>\n",
       "      <td>...</td>\n",
       "      <td>...</td>\n",
       "      <td>...</td>\n",
       "      <td>...</td>\n",
       "      <td>...</td>\n",
       "      <td>...</td>\n",
       "      <td>...</td>\n",
       "      <td>...</td>\n",
       "      <td>...</td>\n",
       "      <td>...</td>\n",
       "    </tr>\n",
       "    <tr>\n",
       "      <th>1202</th>\n",
       "      <td>2320.0</td>\n",
       "      <td>Centurion Thames Path 100</td>\n",
       "      <td>Centurion Thames Path 100</td>\n",
       "      <td>London</td>\n",
       "      <td>United Kingdom</td>\n",
       "      <td>2012-03-03</td>\n",
       "      <td>00:00:00</td>\n",
       "      <td>solo</td>\n",
       "      <td>161.0</td>\n",
       "      <td>1600.0</td>\n",
       "      <td>-1600.0</td>\n",
       "      <td>0.0</td>\n",
       "      <td>0.0</td>\n",
       "    </tr>\n",
       "    <tr>\n",
       "      <th>1203</th>\n",
       "      <td>3439.0</td>\n",
       "      <td>RUN2KILL</td>\n",
       "      <td>RUN2KILL</td>\n",
       "      <td>NaN</td>\n",
       "      <td>Germany</td>\n",
       "      <td>2012-02-24</td>\n",
       "      <td>00:00:00</td>\n",
       "      <td>solo</td>\n",
       "      <td>161.0</td>\n",
       "      <td>4000.0</td>\n",
       "      <td>-4000.0</td>\n",
       "      <td>0.0</td>\n",
       "      <td>0.0</td>\n",
       "    </tr>\n",
       "    <tr>\n",
       "      <th>1204</th>\n",
       "      <td>5640.0</td>\n",
       "      <td>IRON HORSE Endurance RunS</td>\n",
       "      <td>IRON HORSE 100M</td>\n",
       "      <td>NaN</td>\n",
       "      <td>United States</td>\n",
       "      <td>2012-02-10</td>\n",
       "      <td>00:00:00</td>\n",
       "      <td>solo</td>\n",
       "      <td>161.0</td>\n",
       "      <td>2400.0</td>\n",
       "      <td>-2400.0</td>\n",
       "      <td>0.0</td>\n",
       "      <td>0.0</td>\n",
       "    </tr>\n",
       "    <tr>\n",
       "      <th>1205</th>\n",
       "      <td>3202.0</td>\n",
       "      <td>Rocky Raccoon</td>\n",
       "      <td>100 Mile</td>\n",
       "      <td>Huntsville</td>\n",
       "      <td>United States</td>\n",
       "      <td>2012-02-04</td>\n",
       "      <td>00:00:00</td>\n",
       "      <td>solo</td>\n",
       "      <td>161.0</td>\n",
       "      <td>1800.0</td>\n",
       "      <td>-1800.0</td>\n",
       "      <td>0.0</td>\n",
       "      <td>0.0</td>\n",
       "    </tr>\n",
       "    <tr>\n",
       "      <th>1206</th>\n",
       "      <td>3253.0</td>\n",
       "      <td>HURT 100</td>\n",
       "      <td>HURT 100 MILE ENDURANCE RUN</td>\n",
       "      <td>NaN</td>\n",
       "      <td>United States</td>\n",
       "      <td>2012-01-14</td>\n",
       "      <td>00:00:00</td>\n",
       "      <td>solo</td>\n",
       "      <td>161.0</td>\n",
       "      <td>7620.0</td>\n",
       "      <td>-7620.0</td>\n",
       "      <td>0.0</td>\n",
       "      <td>0.0</td>\n",
       "    </tr>\n",
       "  </tbody>\n",
       "</table>\n",
       "<p>1207 rows × 13 columns</p>\n",
       "</div>"
      ],
      "text/plain": [
       "      race_year_id                      event                         race  \\\n",
       "0          68140.0       Peak District Ultras                Millstone 100   \n",
       "1          72496.0                      UTMB®                        UTMB®   \n",
       "2          69855.0    Grand Raid des Pyrénées               Ultra Tour 160   \n",
       "3          67856.0              Persenk Ultra                PERSENK ULTRA   \n",
       "4          70469.0    Runfire Salt Lake Ultra                     100 Mile   \n",
       "...            ...                        ...                          ...   \n",
       "1202        2320.0  Centurion Thames Path 100    Centurion Thames Path 100   \n",
       "1203        3439.0                   RUN2KILL                     RUN2KILL   \n",
       "1204        5640.0  IRON HORSE Endurance RunS              IRON HORSE 100M   \n",
       "1205        3202.0              Rocky Raccoon                     100 Mile   \n",
       "1206        3253.0                   HURT 100  HURT 100 MILE ENDURANCE RUN   \n",
       "\n",
       "             city         country        date start_time participation  \\\n",
       "0       Castleton  United Kingdom  2021-09-03   19:00:00          solo   \n",
       "1        Chamonix          France  2021-08-27   17:00:00          solo   \n",
       "2     vielle-Aure          France  2021-08-20   05:00:00          solo   \n",
       "3      Asenovgrad        Bulgaria  2021-08-20   18:00:00          solo   \n",
       "4        ulukisla          Turkey  2021-08-20   18:00:00          solo   \n",
       "...           ...             ...         ...        ...           ...   \n",
       "1202       London  United Kingdom  2012-03-03   00:00:00          solo   \n",
       "1203          NaN         Germany  2012-02-24   00:00:00          solo   \n",
       "1204          NaN   United States  2012-02-10   00:00:00          solo   \n",
       "1205   Huntsville   United States  2012-02-04   00:00:00          solo   \n",
       "1206          NaN   United States  2012-01-14   00:00:00          solo   \n",
       "\n",
       "      distance  elevation_gain  elevation_loss  aid_stations  participants  \n",
       "0        166.9          4520.0         -4520.0          10.0         150.0  \n",
       "1        170.7          9930.0         -9930.0          11.0        2300.0  \n",
       "2        167.0          9980.0         -9980.0          13.0         600.0  \n",
       "3        164.0          7490.0         -7500.0          13.0         150.0  \n",
       "4        159.9           100.0          -100.0          12.0           0.0  \n",
       "...        ...             ...             ...           ...           ...  \n",
       "1202     161.0          1600.0         -1600.0           0.0           0.0  \n",
       "1203     161.0          4000.0         -4000.0           0.0           0.0  \n",
       "1204     161.0          2400.0         -2400.0           0.0           0.0  \n",
       "1205     161.0          1800.0         -1800.0           0.0           0.0  \n",
       "1206     161.0          7620.0         -7620.0           0.0           0.0  \n",
       "\n",
       "[1207 rows x 13 columns]"
      ]
     },
     "execution_count": 18,
     "metadata": {},
     "output_type": "execute_result"
    }
   ],
   "source": [
    "X"
   ]
  },
  {
   "cell_type": "code",
   "execution_count": 19,
   "id": "dc70524e",
   "metadata": {},
   "outputs": [
    {
     "data": {
      "text/plain": [
       "<AxesSubplot:xlabel='distance', ylabel='Count'>"
      ]
     },
     "execution_count": 19,
     "metadata": {},
     "output_type": "execute_result"
    },
    {
     "data": {
      "image/png": "[encoded data removed]",
      "text/plain": [
       "<Figure size 432x288 with 1 Axes>"
      ]
     },
     "metadata": {
      "needs_background": "light"
     },
     "output_type": "display_data"
    }
   ],
   "source": [
    "sns.histplot(X.distance)"
   ]
  },
  {
   "cell_type": "markdown",
   "id": "bd73a92b",
   "metadata": {},
   "source": [
    "### Elevation gain and loss\n",
    "\n",
    "At first sight there's not atypical data to be declared. ✅"
   ]
  },
  {
   "cell_type": "markdown",
   "id": "4a5c95b1",
   "metadata": {},
   "source": [
    "### Aid stations\n",
    "\n",
    "All clear ✅"
   ]
  },
  {
   "cell_type": "markdown",
   "id": "52d44cec",
   "metadata": {},
   "source": [
    "### Participants\n",
    "\n",
    "Almost half of the races have no participants. We can't do much about it, the rest of the data on these races is still intersting."
   ]
  },
  {
   "cell_type": "code",
   "execution_count": 20,
   "id": "1f353a69",
   "metadata": {},
   "outputs": [
    {
     "data": {
      "text/plain": [
       "<AxesSubplot:xlabel='participants'>"
      ]
     },
     "execution_count": 20,
     "metadata": {},
     "output_type": "execute_result"
    },
    {
     "data": {
      "image/png": "[encoded data removed]",
      "text/plain": [
       "<Figure size 432x288 with 1 Axes>"
      ]
     },
     "metadata": {
      "needs_background": "light"
     },
     "output_type": "display_data"
    }
   ],
   "source": [
    "sns.boxplot(\n",
    "    x = \"participants\",\n",
    "    data = X\n",
    ")"
   ]
  },
  {
   "cell_type": "code",
   "execution_count": 21,
   "id": "70bfb003",
   "metadata": {},
   "outputs": [
    {
     "data": {
      "text/plain": [
       "<AxesSubplot:xlabel='participants'>"
      ]
     },
     "execution_count": 21,
     "metadata": {},
     "output_type": "execute_result"
    },
    {
     "data": {
      "image/png": "[encoded data removed]",
      "text/plain": [
       "<Figure size 432x288 with 1 Axes>"
      ]
     },
     "metadata": {
      "needs_background": "light"
     },
     "output_type": "display_data"
    }
   ],
   "source": [
    "sns.boxplot(\n",
    "    x = \"participants\",\n",
    "    data = X[X.participants != 0]\n",
    ")"
   ]
  },
  {
   "cell_type": "markdown",
   "id": "5c5cd3f0",
   "metadata": {},
   "source": [
    "## Save new data frame to CSV\n",
    "\n",
    "Created file directly goes to the output folder."
   ]
  },
  {
   "cell_type": "code",
   "execution_count": 22,
   "id": "2a151e6f",
   "metadata": {},
   "outputs": [],
   "source": [
    "from pathlib import Path  \n",
    "\n",
    "filepath = Path('../output/out.csv')  \n",
    "\n",
    "filepath.parent.mkdir(parents=True, exist_ok=True)  \n",
    "\n",
    "X.to_csv(filepath)  "
   ]
  }
 ],
 "metadata": {
  "kernelspec": {
   "display_name": "Python 3 (ipykernel)",
   "language": "python",
   "name": "python3"
  },
  "language_info": {
   "codemirror_mode": {
    "name": "ipython",
    "version": 3
   },
   "file_extension": ".py",
   "mimetype": "text/x-python",
   "name": "python",
   "nbconvert_exporter": "python",
   "pygments_lexer": "ipython3",
   "version": "3.9.7"
  }
 },
 "nbformat": 4,
 "nbformat_minor": 5
}
