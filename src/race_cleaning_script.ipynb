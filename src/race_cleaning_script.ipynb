{
 "cells": [
  {
   "cell_type": "markdown",
   "id": "397a8ca8",
   "metadata": {},
   "source": [
    "# Cleaning Script for races.csv"
   ]
  },
  {
   "cell_type": "code",
   "execution_count": 3,
   "id": "4f56cfdd",
   "metadata": {},
   "outputs": [],
   "source": [
    "import pandas as pd\n",
    "import numpy as np\n",
    "import matplotlib as plt\n",
    "import seaborn as sns"
   ]
  },
  {
   "cell_type": "code",
   "execution_count": 5,
   "id": "65f621c4",
   "metadata": {
    "scrolled": true
   },
   "outputs": [
    {
     "name": "stdout",
     "output_type": "stream",
     "text": [
      "<class 'pandas.core.frame.DataFrame'>\n",
      "RangeIndex: 1207 entries, 0 to 1206\n",
      "Data columns (total 13 columns):\n",
      " #   Column          Non-Null Count  Dtype  \n",
      "---  ------          --------------  -----  \n",
      " 0   race_year_id    1207 non-null   int64  \n",
      " 1   event           1207 non-null   object \n",
      " 2   race            1207 non-null   object \n",
      " 3   city            1035 non-null   object \n",
      " 4   country         1203 non-null   object \n",
      " 5   date            1207 non-null   object \n",
      " 6   start_time      1207 non-null   object \n",
      " 7   participation   1207 non-null   object \n",
      " 8   distance        1207 non-null   float64\n",
      " 9   elevation_gain  1207 non-null   int64  \n",
      " 10  elevation_loss  1207 non-null   int64  \n",
      " 11  aid_stations    1207 non-null   int64  \n",
      " 12  participants    1207 non-null   int64  \n",
      "dtypes: float64(1), int64(5), object(7)\n",
      "memory usage: 122.7+ KB\n"
     ]
    }
   ],
   "source": [
    "X = pd.read_csv(\"../data/race.csv\")\n",
    "X.info()\n"
   ]
  },
  {
   "cell_type": "markdown",
   "id": "c83b1255",
   "metadata": {},
   "source": [
    "- race_year_id ✅\n",
    "- event ✅\n",
    "- race ✅\n",
    "- city ✅\n",
    "- country ✅\n",
    "- date ✅\n",
    "- country ✅\n",
    "- start_time ✅"
   ]
  },
  {
   "cell_type": "markdown",
   "id": "8568483c",
   "metadata": {},
   "source": [
    "### Cleaning participation typo\n",
    "'Solo' and 'solo' both in the participation field. Transformed 'Solo' to 'solo'."
   ]
  },
  {
   "cell_type": "code",
   "execution_count": 3,
   "id": "5fdef94f",
   "metadata": {},
   "outputs": [
    {
     "data": {
      "text/plain": [
       "array(['solo', 'team', 'relay'], dtype=object)"
      ]
     },
     "execution_count": 3,
     "metadata": {},
     "output_type": "execute_result"
    }
   ],
   "source": [
    "mask = X.participation == \"Solo\"\n",
    "X.loc[mask, \"participation\"] = \"solo\"\n",
    "X.participation.unique()"
   ]
  },
  {
   "cell_type": "markdown",
   "id": "02e7c4e7",
   "metadata": {},
   "source": [
    "### Cleaning city typo\n",
    "One city called '???' renamed to 'nan'."
   ]
  },
  {
   "cell_type": "code",
   "execution_count": 4,
   "id": "2ced3ed9",
   "metadata": {},
   "outputs": [],
   "source": [
    "X[X.city == '???'] = np.nan"
   ]
  },
  {
   "cell_type": "markdown",
   "id": "d7033876",
   "metadata": {},
   "source": [
    "### Cleaning atypical distance values\n",
    "\n",
    "In the dataset several distance variables were null (74 to be exact). In most cases, the positive and negative slope values were also zero. Most of our explorations and applications will focus on these quantitative variables. We therefore eliminate them from the dataset."
   ]
  },
  {
   "cell_type": "code",
   "execution_count": 13,
   "id": "de975d8d",
   "metadata": {
    "scrolled": true
   },
   "outputs": [
    {
     "name": "stdout",
     "output_type": "stream",
     "text": [
      "<class 'pandas.core.frame.DataFrame'>\n",
      "Int64Index: 1133 entries, 0 to 1206\n",
      "Data columns (total 13 columns):\n",
      " #   Column          Non-Null Count  Dtype  \n",
      "---  ------          --------------  -----  \n",
      " 0   race_year_id    1133 non-null   int64  \n",
      " 1   event           1133 non-null   object \n",
      " 2   race            1133 non-null   object \n",
      " 3   city            984 non-null    object \n",
      " 4   country         1129 non-null   object \n",
      " 5   date            1133 non-null   object \n",
      " 6   start_time      1133 non-null   object \n",
      " 7   participation   1133 non-null   object \n",
      " 8   distance        1133 non-null   float64\n",
      " 9   elevation_gain  1133 non-null   int64  \n",
      " 10  elevation_loss  1133 non-null   int64  \n",
      " 11  aid_stations    1133 non-null   int64  \n",
      " 12  participants    1133 non-null   int64  \n",
      "dtypes: float64(1), int64(5), object(7)\n",
      "memory usage: 123.9+ KB\n"
     ]
    }
   ],
   "source": [
    "X = X.loc[X.distance != 0]\n",
    "X.info()"
   ]
  },
  {
   "cell_type": "markdown",
   "id": "671fccb3",
   "metadata": {},
   "source": [
    "<u>note:</u> the data set becomes narrower but very relatively."
   ]
  },
  {
   "cell_type": "markdown",
   "id": "8b143e7e",
   "metadata": {},
   "source": [
    "#### What about \"short\" distances?\n",
    "\n",
    "We quickly notice that some races have atypically short distances. In the case of our study, it could be useful to treat them separately in order to compare more general results found on \"normal\" individuals.<br>\n",
    "Only 7 races are less than 150km, eventhough the definition says we talk about \"ultra trails\" when it's longer than a marathon (42 km)."
   ]
  },
  {
   "cell_type": "code",
   "execution_count": 6,
   "id": "95585462",
   "metadata": {},
   "outputs": [],
   "source": [
    "X_short = X.loc[X.distance <= 140]\n",
    "X_short\n",
    "X = X.loc[X.distance > 140]"
   ]
  },
  {
   "cell_type": "code",
   "execution_count": 14,
   "id": "dc70524e",
   "metadata": {},
   "outputs": [
    {
     "data": {
      "text/plain": [
       "<AxesSubplot:xlabel='distance', ylabel='Count'>"
      ]
     },
     "execution_count": 14,
     "metadata": {},
     "output_type": "execute_result"
    },
    {
     "data": {
      "image/png": "[encoded data removed]",
      "text/plain": [
       "<Figure size 432x288 with 1 Axes>"
      ]
     },
     "metadata": {
      "needs_background": "light"
     },
     "output_type": "display_data"
    }
   ],
   "source": [
    "sns.histplot(X.distance)"
   ]
  },
  {
   "cell_type": "markdown",
   "id": "bd73a92b",
   "metadata": {},
   "source": [
    "### Elevation gain and loss\n",
    "\n",
    "At first sight there's not atypical data to be declared. ✅"
   ]
  },
  {
   "cell_type": "markdown",
   "id": "4a5c95b1",
   "metadata": {},
   "source": [
    "### Aid stations\n",
    "\n",
    "All clear ✅"
   ]
  },
  {
   "cell_type": "markdown",
   "id": "52d44cec",
   "metadata": {},
   "source": [
    "### Participants\n",
    "\n",
    "Almost half of the races have no participants. We can't do much about it, the rest of the data on these races is still intersting."
   ]
  },
  {
   "cell_type": "code",
   "execution_count": 8,
   "id": "1f353a69",
   "metadata": {},
   "outputs": [
    {
     "data": {
      "text/plain": [
       "<AxesSubplot:xlabel='participants'>"
      ]
     },
     "execution_count": 8,
     "metadata": {},
     "output_type": "execute_result"
    },
    {
     "data": {
      "image/png": "[encoded data removed]",
      "text/plain": [
       "<Figure size 432x288 with 1 Axes>"
      ]
     },
     "metadata": {
      "needs_background": "light"
     },
     "output_type": "display_data"
    }
   ],
   "source": [
    "sns.boxplot(\n",
    "    x = \"participants\",\n",
    "    data = X\n",
    ")"
   ]
  },
  {
   "cell_type": "code",
   "execution_count": 9,
   "id": "70bfb003",
   "metadata": {},
   "outputs": [
    {
     "data": {
      "text/plain": [
       "<AxesSubplot:xlabel='participants'>"
      ]
     },
     "execution_count": 9,
     "metadata": {},
     "output_type": "execute_result"
    },
    {
     "data": {
      "image/png": "[encoded data removed]",
      "text/plain": [
       "<Figure size 432x288 with 1 Axes>"
      ]
     },
     "metadata": {
      "needs_background": "light"
     },
     "output_type": "display_data"
    }
   ],
   "source": [
    "sns.boxplot(\n",
    "    x = \"participants\",\n",
    "    data = X[X.participants != 0]\n",
    ")"
   ]
  },
  {
   "cell_type": "markdown",
   "id": "5c5cd3f0",
   "metadata": {},
   "source": [
    "## Save new data frame to CSV\n",
    "\n",
    "Created file directly goes to the output folder."
   ]
  },
  {
   "cell_type": "code",
   "execution_count": 10,
   "id": "2a151e6f",
   "metadata": {},
   "outputs": [],
   "source": [
    "from pathlib import Path  \n",
    "\n",
    "filepath = Path('../output/out.csv')  \n",
    "\n",
    "filepath.parent.mkdir(parents=True, exist_ok=True)  \n",
    "\n",
    "X.to_csv(filepath)  "
   ]
  }
 ],
 "metadata": {
  "kernelspec": {
   "display_name": "Python 3 (ipykernel)",
   "language": "python",
   "name": "python3"
  },
  "language_info": {
   "codemirror_mode": {
    "name": "ipython",
    "version": 3
   },
   "file_extension": ".py",
   "mimetype": "text/x-python",
   "name": "python",
   "nbconvert_exporter": "python",
   "pygments_lexer": "ipython3",
   "version": "3.9.7"
  }
 },
 "nbformat": 4,
 "nbformat_minor": 5
}
